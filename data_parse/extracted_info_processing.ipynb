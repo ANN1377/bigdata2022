{
  "cells": [
    {
      "cell_type": "markdown",
      "metadata": {
        "id": "yAGp-3Von28k"
      },
      "source": [
        "# Обработка и получение данных в датасет\n",
        "\n",
        "В этом ноутбуке содержится код обработки данных аукциона.\n",
        "\n",
        "Целью описываемых здесь функций является подготовка данных к загрузке в ClickHouse."
      ]
    },
    {
      "cell_type": "code",
      "execution_count": null,
      "metadata": {
        "id": "B3hIbQkin28s"
      },
      "outputs": [],
      "source": [
        "import numpy as np\n",
        "import pandas as pd"
      ]
    },
    {
      "cell_type": "code",
      "execution_count": null,
      "metadata": {
        "id": "Ue7-1MFon28v"
      },
      "outputs": [],
      "source": [
        "\n",
        "import cv2\n",
        "import numpy\n",
        "import pyautogui\n",
        "import time\n",
        "import pytesseract\n",
        "import cv2\n",
        "import re\n",
        "import pandas as pd\n",
        "\n",
        "pytesseract.pytesseract.tesseract_cmd = r'C:\\Program Files\\Tesseract-OCR\\tesseract'\n",
        "\n",
        "time.sleep(3)\n",
        "\n",
        "\n",
        "def ocr_screen(gray):\n",
        "\n",
        "    starttime = time.time()\n",
        "\n",
        "    for i in range(5, 260, 38):\n",
        "\n",
        "        text = pytesseract.image_to_string(gray[i:i + 38, 40:230], lang='rus',\n",
        "                                           config='--psm 11 ')  #\n",
        "        s1.append(re.sub(\"\\s+\", \" \", text))\n",
        "\n",
        "        text = pytesseract.image_to_string(gray[i + 14:i + 37, 480:525],\n",
        "                                            )\n",
        "        s6.append(re.sub(\"\\s+\", \" \", text))\n",
        "    print(\"ocr-screen: \", time.time() - starttime)\n",
        "    return s1,s2,s3,s4,s5,s6\n",
        "\n",
        "\n",
        "print(pyautogui.position())\n",
        "\n",
        "\n",
        "\n",
        "\n",
        "\n",
        "columns = ['timeы','name', 'srok', 'name_per','vikup','prace_st','prace_v']\n",
        "df = pd.DataFrame(columns=columns)\n",
        "\n",
        "\n",
        "for j in range(0,500):\n",
        "    print(j)\n",
        "    for i in range(0,6):\n",
        "\n",
        "        pyautogui.moveTo(1204,340 + 50*i)\n",
        "        pyautogui.click()\n",
        "\n",
        "        starttime = time.time()\n",
        "        image = pyautogui.screenshot(region=(577,310,610,304))\n",
        "        image = numpy.array(image)\n",
        "        gray = cv2.cvtColor(image, cv2.COLOR_BGR2GRAY)\n",
        "        print(\"screen convert numpy: \",time.time() - starttime )\n",
        "        name_pred, srok_lota, name_pers, vikup, prace_stav,prace_vik = ocr_screen(image)\n",
        "\n",
        "\n",
        "        sec = time.time()\n",
        "        struct = time.localtime(sec)\n",
        "\n",
        "        starttime = time.time()\n",
        "        for i in range(0,len(name_pred)):\n",
        "            df.loc[len(df)]=[time.strftime('%d.%m.%Y %H:%M', struct),name_pred[i], srok_lota[i], name_pers[i],\n",
        "                             vikup[i], prace_stav[i],prace_vik[i]]\n",
        "        print(\"zapis csv: \",time.time() - starttime)\n",
        "\n",
        "\n",
        "\n",
        "\n",
        "\n",
        "print(df)\n",
        "\n",
        "df.to_csv('out.csv', encoding='utf-8',index=False)"
      ]
    }
  ],
  "metadata": {
    "kernelspec": {
      "display_name": "Python 3",
      "language": "python",
      "name": "python3"
    },
    "language_info": {
      "codemirror_mode": {
        "name": "ipython",
        "version": 3
      },
      "file_extension": ".py",
      "mimetype": "text/x-python",
      "name": "python",
      "nbconvert_exporter": "python",
      "pygments_lexer": "ipython3",
      "version": "3.7.4"
    },
    "colab": {
      "name": "extracted_info_processing.ipynb",
      "provenance": []
    }
  },
  "nbformat": 4,
  "nbformat_minor": 0
}