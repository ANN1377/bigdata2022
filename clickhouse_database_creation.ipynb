{
  "cells": [
    {
      "cell_type": "markdown",
      "metadata": {
        "id": "TKfBQrJSk4xu"
      },
      "source": [
        "## Создание базы данных в ClickHouse и загрузка данных"
      ]
    },
    {
      "cell_type": "code",
      "execution_count": null,
      "metadata": {
        "id": "sdPMP2o2k4xz"
      },
      "outputs": [],
      "source": [
        "import numpy as np\n",
        "import pandas as pd\n",
        "import math\n",
        "from clickhouse_driver.client import Client"
      ]
    },
    {
      "cell_type": "code",
      "execution_count": null,
      "metadata": {
        "id": "LX2LfmwCk4x1"
      },
      "outputs": [],
      "source": [
        "# Подключение к серверу\n",
        "client = Client('', user='default', password='qwerty') "
      ]
    },
    {
      "cell_type": "markdown",
      "metadata": {
        "id": "AenlMpEbk4x2"
      },
      "source": [
        "## Создание базы данных и структуры таблиц\n",
        "\n",
        "База данных имеет название `real_db` содержит таблицу:\n",
        "* real_db.ayk - с информацией об ценах на аукционе\n"
      ]
    },
    {
      "cell_type": "code",
      "execution_count": null,
      "metadata": {
        "id": "amMLgoGak4x3",
        "outputId": "cd9d9322-c8d2-460a-f6bf-74b444450084"
      },
      "outputs": [
        {
          "data": {
            "text/plain": [
              "[]"
            ]
          },
          "execution_count": 16,
          "metadata": {},
          "output_type": "execute_result"
        }
      ],
      "source": [
        "# Создание базы данных\n",
        "client.execute(\"CREATE DATABASE real_db\")"
      ]
    },
    {
      "cell_type": "code",
      "execution_count": null,
      "metadata": {
        "id": "2mMc7A4Mk4x5",
        "outputId": "290ab39e-2a90-4b2a-9277-5e22a26400b3"
      },
      "outputs": [
        {
          "data": {
            "text/plain": [
              "[]"
            ]
          },
          "execution_count": 17,
          "metadata": {},
          "output_type": "execute_result"
        }
      ],
      "source": [
        "# Создание таблицы, в которой будет храниться информация об аукционе\n",
        "client.execute('''\n",
        "    CREATE TABLE realty_db.ayk\n",
        "    (\n",
        "      com_id Int32,\n",
        "      time DateTime,\n",
        "      name String,\n",
        "      name_pers String,\n",
        "      vikup String,\n",
        "      price_stav Int32,\n",
        "      price_vikup Int32,\n",
        "    ) \n",
        "    ENGINE = ReplacingMergeTree()\n",
        "    PARTITION BY main_category\n",
        "    ORDER BY com_id\n",
        "    SETTINGS index_granularity=256\n",
        "    ''')"
      ]
    },
    {
      "cell_type": "code",
      "execution_count": null,
      "metadata": {
        "id": "fh2K2fTXk4x6",
        "outputId": "c3450241-d92d-4a66-d05b-d68a810240e3"
      },
      "outputs": [
        {
          "data": {
            "text/plain": [
              "[]"
            ]
          },
          "execution_count": 25,
          "metadata": {},
          "output_type": "execute_result"
        }
      ],
      "source": [
        "# Делаем таблицу инфраструктуры распределенной\n",
        "client.execute('''\n",
        "    CREATE TABLE real_db.distr_auk as real_db.auk\n",
        "    ENGINE = Distributed(bd_real_estate_cluster, real_db, infr, xxHash64(com_id))\n",
        "    ''')"
      ]
    },
    {
      "cell_type": "markdown",
      "metadata": {
        "id": "O8yOLXzYk4x_"
      },
      "source": [
        "## Загрузка данных в таблицы"
      ]
    },
    {
      "cell_type": "code",
      "execution_count": null,
      "metadata": {
        "id": "JDx0t6yNk4x_"
      },
      "outputs": [],
      "source": [
        "# Подготовка данных об аукционе, полученных в результате парсинга, к загрузке в ClickHouse\n",
        "infr_for_loading = pd.read_csv('./data_gathering/full.csv')\n",
        "infr_for_loading = infr_for_loading.astype({\"com_id\": np.int64})\n",
        "\n",
        "infr_for_loading = infr_for_loading.fillna('')\n",
        "rows = infr_for_loading.values.tolist()\n",
        "\n",
        "for i in range(len(rows)):\n",
        "    for j in range(len(rows[i])):\n",
        "        if j == len(rows[i]) - 1:\n",
        "            if rows[i][j] == '':\n",
        "                rows[i][j] = []\n",
        "            else:\n",
        "                rows[i][j] = rows[i][j].split('[\\'')[1].split('\\']')[0].replace(\"'\", \"\").split(',')"
      ]
    },
    {
      "cell_type": "code",
      "execution_count": null,
      "metadata": {
        "id": "R4iUaMQjk4yA",
        "outputId": "f472dc39-39b6-4790-cb5c-2125f3a84e28"
      },
      "outputs": [
        {
          "data": {
            "text/plain": [
              "21069"
            ]
          },
          "execution_count": 35,
          "metadata": {},
          "output_type": "execute_result"
        }
      ],
      "source": [
        "# Загрузка данных об инфраструктуре в таблицу real_db.distr_auk\n",
        "client.execute(\"INSERT INTO real_db.distr_auk VALUES\", rows)"
      ]
    },
    {
      "cell_type": "code",
      "execution_count": null,
      "metadata": {
        "id": "3A6NlK4Hk4yD"
      },
      "outputs": [],
      "source": [
        "# Разрываем соединение с сервером\n",
        "client.disconnect()"
      ]
    }
  ],
  "metadata": {
    "kernelspec": {
      "display_name": "Python 3",
      "language": "python",
      "name": "python3"
    },
    "language_info": {
      "codemirror_mode": {
        "name": "ipython",
        "version": 3
      },
      "file_extension": ".py",
      "mimetype": "text/x-python",
      "name": "python",
      "nbconvert_exporter": "python",
      "pygments_lexer": "ipython3",
      "version": "3.7.4"
    },
    "colab": {
      "name": "clickhouse_database_creation.ipynb",
      "provenance": []
    }
  },
  "nbformat": 4,
  "nbformat_minor": 0
}