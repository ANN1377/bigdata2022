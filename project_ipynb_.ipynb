{
  "nbformat": 4,
  "nbformat_minor": 0,
  "metadata": {
    "colab": {
      "name": "project_ipynb_.ipynb",
      "provenance": [],
      "collapsed_sections": []
    },
    "kernelspec": {
      "name": "python3",
      "display_name": "Python 3"
    },
    "language_info": {
      "name": "python"
    }
  },
  "cells": [
    {
      "cell_type": "code",
      "execution_count": 1,
      "metadata": {
        "id": "79UtoDHY5c8O"
      },
      "outputs": [],
      "source": [
        "import pandas as pd\n",
        "import seaborn as sns"
      ]
    },
    {
      "cell_type": "code",
      "source": [
        "from google.colab import drive\n",
        "drive.mount('/content/drive')"
      ],
      "metadata": {
        "colab": {
          "base_uri": "https://localhost:8080/"
        },
        "id": "CXJ3JQfgrrFL",
        "outputId": "5c0192c3-bc6c-4e06-e7da-c93a38c7179c"
      },
      "execution_count": 2,
      "outputs": [
        {
          "output_type": "stream",
          "name": "stdout",
          "text": [
            "Mounted at /content/drive\n"
          ]
        }
      ]
    },
    {
      "cell_type": "code",
      "source": [
        "df = pd.read_csv('/content/drive/MyDrive/project/test_full_bez_musor.csv', sep=';')"
      ],
      "metadata": {
        "id": "Oydqns6f6TWh"
      },
      "execution_count": 3,
      "outputs": []
    },
    {
      "cell_type": "code",
      "source": [
        "df.head()"
      ],
      "metadata": {
        "colab": {
          "base_uri": "https://localhost:8080/",
          "height": 206
        },
        "id": "GhTZW25-7DYH",
        "outputId": "4d9d098e-dcfd-48f7-82d3-0e652d699ffa"
      },
      "execution_count": 4,
      "outputs": [
        {
          "output_type": "execute_result",
          "data": {
            "text/plain": [
              "              time name_pred srok_lota name_pers vikup price_stav  price_vik\n",
              "0  17.05.2022 8:32       ох                 в -    во                      0\n",
              "1  17.05.2022 8:47      у №         Г      Ее <   Ман                      0\n",
              "2  17.05.2022 8:49                                я <                      0\n",
              "3  18.05.2022 5:38                           в.      2                     0\n",
              "4  18.05.2022 5:56                      у к» 05                            0"
            ],
            "text/html": [
              "\n",
              "  <div id=\"df-222468e5-e2d9-4e15-a465-96697bc86020\">\n",
              "    <div class=\"colab-df-container\">\n",
              "      <div>\n",
              "<style scoped>\n",
              "    .dataframe tbody tr th:only-of-type {\n",
              "        vertical-align: middle;\n",
              "    }\n",
              "\n",
              "    .dataframe tbody tr th {\n",
              "        vertical-align: top;\n",
              "    }\n",
              "\n",
              "    .dataframe thead th {\n",
              "        text-align: right;\n",
              "    }\n",
              "</style>\n",
              "<table border=\"1\" class=\"dataframe\">\n",
              "  <thead>\n",
              "    <tr style=\"text-align: right;\">\n",
              "      <th></th>\n",
              "      <th>time</th>\n",
              "      <th>name_pred</th>\n",
              "      <th>srok_lota</th>\n",
              "      <th>name_pers</th>\n",
              "      <th>vikup</th>\n",
              "      <th>price_stav</th>\n",
              "      <th>price_vik</th>\n",
              "    </tr>\n",
              "  </thead>\n",
              "  <tbody>\n",
              "    <tr>\n",
              "      <th>0</th>\n",
              "      <td>17.05.2022 8:32</td>\n",
              "      <td>ох</td>\n",
              "      <td></td>\n",
              "      <td>в -</td>\n",
              "      <td>во</td>\n",
              "      <td></td>\n",
              "      <td>0</td>\n",
              "    </tr>\n",
              "    <tr>\n",
              "      <th>1</th>\n",
              "      <td>17.05.2022 8:47</td>\n",
              "      <td>у №</td>\n",
              "      <td>Г</td>\n",
              "      <td>Ее &lt;</td>\n",
              "      <td>Ман</td>\n",
              "      <td></td>\n",
              "      <td>0</td>\n",
              "    </tr>\n",
              "    <tr>\n",
              "      <th>2</th>\n",
              "      <td>17.05.2022 8:49</td>\n",
              "      <td></td>\n",
              "      <td></td>\n",
              "      <td></td>\n",
              "      <td>я &lt;</td>\n",
              "      <td></td>\n",
              "      <td>0</td>\n",
              "    </tr>\n",
              "    <tr>\n",
              "      <th>3</th>\n",
              "      <td>18.05.2022 5:38</td>\n",
              "      <td></td>\n",
              "      <td></td>\n",
              "      <td>в.</td>\n",
              "      <td>2</td>\n",
              "      <td></td>\n",
              "      <td>0</td>\n",
              "    </tr>\n",
              "    <tr>\n",
              "      <th>4</th>\n",
              "      <td>18.05.2022 5:56</td>\n",
              "      <td></td>\n",
              "      <td></td>\n",
              "      <td>у к» 05</td>\n",
              "      <td></td>\n",
              "      <td></td>\n",
              "      <td>0</td>\n",
              "    </tr>\n",
              "  </tbody>\n",
              "</table>\n",
              "</div>\n",
              "      <button class=\"colab-df-convert\" onclick=\"convertToInteractive('df-222468e5-e2d9-4e15-a465-96697bc86020')\"\n",
              "              title=\"Convert this dataframe to an interactive table.\"\n",
              "              style=\"display:none;\">\n",
              "        \n",
              "  <svg xmlns=\"http://www.w3.org/2000/svg\" height=\"24px\"viewBox=\"0 0 24 24\"\n",
              "       width=\"24px\">\n",
              "    <path d=\"M0 0h24v24H0V0z\" fill=\"none\"/>\n",
              "    <path d=\"M18.56 5.44l.94 2.06.94-2.06 2.06-.94-2.06-.94-.94-2.06-.94 2.06-2.06.94zm-11 1L8.5 8.5l.94-2.06 2.06-.94-2.06-.94L8.5 2.5l-.94 2.06-2.06.94zm10 10l.94 2.06.94-2.06 2.06-.94-2.06-.94-.94-2.06-.94 2.06-2.06.94z\"/><path d=\"M17.41 7.96l-1.37-1.37c-.4-.4-.92-.59-1.43-.59-.52 0-1.04.2-1.43.59L10.3 9.45l-7.72 7.72c-.78.78-.78 2.05 0 2.83L4 21.41c.39.39.9.59 1.41.59.51 0 1.02-.2 1.41-.59l7.78-7.78 2.81-2.81c.8-.78.8-2.07 0-2.86zM5.41 20L4 18.59l7.72-7.72 1.47 1.35L5.41 20z\"/>\n",
              "  </svg>\n",
              "      </button>\n",
              "      \n",
              "  <style>\n",
              "    .colab-df-container {\n",
              "      display:flex;\n",
              "      flex-wrap:wrap;\n",
              "      gap: 12px;\n",
              "    }\n",
              "\n",
              "    .colab-df-convert {\n",
              "      background-color: #E8F0FE;\n",
              "      border: none;\n",
              "      border-radius: 50%;\n",
              "      cursor: pointer;\n",
              "      display: none;\n",
              "      fill: #1967D2;\n",
              "      height: 32px;\n",
              "      padding: 0 0 0 0;\n",
              "      width: 32px;\n",
              "    }\n",
              "\n",
              "    .colab-df-convert:hover {\n",
              "      background-color: #E2EBFA;\n",
              "      box-shadow: 0px 1px 2px rgba(60, 64, 67, 0.3), 0px 1px 3px 1px rgba(60, 64, 67, 0.15);\n",
              "      fill: #174EA6;\n",
              "    }\n",
              "\n",
              "    [theme=dark] .colab-df-convert {\n",
              "      background-color: #3B4455;\n",
              "      fill: #D2E3FC;\n",
              "    }\n",
              "\n",
              "    [theme=dark] .colab-df-convert:hover {\n",
              "      background-color: #434B5C;\n",
              "      box-shadow: 0px 1px 3px 1px rgba(0, 0, 0, 0.15);\n",
              "      filter: drop-shadow(0px 1px 2px rgba(0, 0, 0, 0.3));\n",
              "      fill: #FFFFFF;\n",
              "    }\n",
              "  </style>\n",
              "\n",
              "      <script>\n",
              "        const buttonEl =\n",
              "          document.querySelector('#df-222468e5-e2d9-4e15-a465-96697bc86020 button.colab-df-convert');\n",
              "        buttonEl.style.display =\n",
              "          google.colab.kernel.accessAllowed ? 'block' : 'none';\n",
              "\n",
              "        async function convertToInteractive(key) {\n",
              "          const element = document.querySelector('#df-222468e5-e2d9-4e15-a465-96697bc86020');\n",
              "          const dataTable =\n",
              "            await google.colab.kernel.invokeFunction('convertToInteractive',\n",
              "                                                     [key], {});\n",
              "          if (!dataTable) return;\n",
              "\n",
              "          const docLinkHtml = 'Like what you see? Visit the ' +\n",
              "            '<a target=\"_blank\" href=https://colab.research.google.com/notebooks/data_table.ipynb>data table notebook</a>'\n",
              "            + ' to learn more about interactive tables.';\n",
              "          element.innerHTML = '';\n",
              "          dataTable['output_type'] = 'display_data';\n",
              "          await google.colab.output.renderOutput(dataTable, element);\n",
              "          const docLink = document.createElement('div');\n",
              "          docLink.innerHTML = docLinkHtml;\n",
              "          element.appendChild(docLink);\n",
              "        }\n",
              "      </script>\n",
              "    </div>\n",
              "  </div>\n",
              "  "
            ]
          },
          "metadata": {},
          "execution_count": 4
        }
      ]
    },
    {
      "cell_type": "code",
      "source": [
        "df.dtypes"
      ],
      "metadata": {
        "colab": {
          "base_uri": "https://localhost:8080/"
        },
        "id": "AY-TiBVC0_zf",
        "outputId": "3ff88984-4d28-4f31-86d6-5b25b9aff954"
      },
      "execution_count": 5,
      "outputs": [
        {
          "output_type": "execute_result",
          "data": {
            "text/plain": [
              "time          object\n",
              "name_pred     object\n",
              "srok_lota     object\n",
              "name_pers     object\n",
              "vikup         object\n",
              "price_stav    object\n",
              "price_vik      int64\n",
              "dtype: object"
            ]
          },
          "metadata": {},
          "execution_count": 5
        }
      ]
    },
    {
      "cell_type": "code",
      "source": [
        "z=pd.to_datetime(df.time).sort_values()"
      ],
      "metadata": {
        "id": "W6Rkzw8-SwIL"
      },
      "execution_count": 6,
      "outputs": []
    },
    {
      "cell_type": "code",
      "source": [
        "z"
      ],
      "metadata": {
        "colab": {
          "base_uri": "https://localhost:8080/"
        },
        "id": "V0azqcFdTvWH",
        "outputId": "9e1299c6-d075-45e6-d481-0a0789bfb759"
      },
      "execution_count": 7,
      "outputs": [
        {
          "output_type": "execute_result",
          "data": {
            "text/plain": [
              "270138   2022-02-05 00:00:00\n",
              "271299   2022-02-05 00:00:00\n",
              "270156   2022-02-05 00:00:00\n",
              "270157   2022-02-05 00:00:00\n",
              "270158   2022-02-05 00:00:00\n",
              "                 ...        \n",
              "4321     2022-05-31 05:03:00\n",
              "4322     2022-05-31 05:03:00\n",
              "14349    2022-05-31 05:03:00\n",
              "1673     2022-05-31 05:03:00\n",
              "7250     2022-05-31 05:03:00\n",
              "Name: time, Length: 579236, dtype: datetime64[ns]"
            ]
          },
          "metadata": {},
          "execution_count": 7
        }
      ]
    },
    {
      "cell_type": "code",
      "source": [
        "df['day']=z"
      ],
      "metadata": {
        "id": "epURC1f2T5Tp"
      },
      "execution_count": 8,
      "outputs": []
    },
    {
      "cell_type": "code",
      "source": [
        "df"
      ],
      "metadata": {
        "colab": {
          "base_uri": "https://localhost:8080/",
          "height": 424
        },
        "id": "FvvaMyXUT9np",
        "outputId": "f6fd5cd2-fde9-4ae1-e075-aa0860470393"
      },
      "execution_count": 9,
      "outputs": [
        {
          "output_type": "execute_result",
          "data": {
            "text/plain": [
              "                    time                 name_pred   srok_lota      name_pers  \\\n",
              "0        17.05.2022 8:32                       ох                        в -    \n",
              "1        17.05.2022 8:47                      у №           Г           Ее <    \n",
              "2        17.05.2022 8:49                                                        \n",
              "3        18.05.2022 5:38                                                  в.    \n",
              "4        18.05.2022 5:56                                             у к» 05    \n",
              "...                  ...                       ...         ...            ...   \n",
              "579231   02.05.2022 0:47  Капюшон ночного штурма.     средний    Сопенбург Е    \n",
              "579232   02.05.2022 1:03  Капюшон ночного штурма.     средний    Сопенбург Е    \n",
              "579233   25.05.2022 4:59      Хладное око Ребрада   лытельный                   \n",
              "579234   27.04.2022 8:59      Хладное око Ребрада   лытельный                   \n",
              "579235  29.04.2022 10:01      Хладное око Ребрада   лытельный                   \n",
              "\n",
              "        vikup price_stav  price_vik                 day  \n",
              "0         во                      0 2022-05-17 08:32:00  \n",
              "1        Ман                      0 2022-05-17 08:47:00  \n",
              "2        я <                      0 2022-05-17 08:49:00  \n",
              "3           2                     0 2022-05-18 05:38:00  \n",
              "4                                 0 2022-05-18 05:56:00  \n",
              "...       ...        ...        ...                 ...  \n",
              "579231  Выку        3164    3993332 2022-02-05 00:47:00  \n",
              "579232  Выку        3164    3993332 2022-02-05 01:03:00  \n",
              "579233  Выку       27000    7427100 2022-05-25 04:59:00  \n",
              "579234  Выку       27000    7427100 2022-04-27 08:59:00  \n",
              "579235  Выку       27000    7427100 2022-04-29 10:01:00  \n",
              "\n",
              "[579236 rows x 8 columns]"
            ],
            "text/html": [
              "\n",
              "  <div id=\"df-8a4d764d-f91e-4a18-a594-6fa79ade1193\">\n",
              "    <div class=\"colab-df-container\">\n",
              "      <div>\n",
              "<style scoped>\n",
              "    .dataframe tbody tr th:only-of-type {\n",
              "        vertical-align: middle;\n",
              "    }\n",
              "\n",
              "    .dataframe tbody tr th {\n",
              "        vertical-align: top;\n",
              "    }\n",
              "\n",
              "    .dataframe thead th {\n",
              "        text-align: right;\n",
              "    }\n",
              "</style>\n",
              "<table border=\"1\" class=\"dataframe\">\n",
              "  <thead>\n",
              "    <tr style=\"text-align: right;\">\n",
              "      <th></th>\n",
              "      <th>time</th>\n",
              "      <th>name_pred</th>\n",
              "      <th>srok_lota</th>\n",
              "      <th>name_pers</th>\n",
              "      <th>vikup</th>\n",
              "      <th>price_stav</th>\n",
              "      <th>price_vik</th>\n",
              "      <th>day</th>\n",
              "    </tr>\n",
              "  </thead>\n",
              "  <tbody>\n",
              "    <tr>\n",
              "      <th>0</th>\n",
              "      <td>17.05.2022 8:32</td>\n",
              "      <td>ох</td>\n",
              "      <td></td>\n",
              "      <td>в -</td>\n",
              "      <td>во</td>\n",
              "      <td></td>\n",
              "      <td>0</td>\n",
              "      <td>2022-05-17 08:32:00</td>\n",
              "    </tr>\n",
              "    <tr>\n",
              "      <th>1</th>\n",
              "      <td>17.05.2022 8:47</td>\n",
              "      <td>у №</td>\n",
              "      <td>Г</td>\n",
              "      <td>Ее &lt;</td>\n",
              "      <td>Ман</td>\n",
              "      <td></td>\n",
              "      <td>0</td>\n",
              "      <td>2022-05-17 08:47:00</td>\n",
              "    </tr>\n",
              "    <tr>\n",
              "      <th>2</th>\n",
              "      <td>17.05.2022 8:49</td>\n",
              "      <td></td>\n",
              "      <td></td>\n",
              "      <td></td>\n",
              "      <td>я &lt;</td>\n",
              "      <td></td>\n",
              "      <td>0</td>\n",
              "      <td>2022-05-17 08:49:00</td>\n",
              "    </tr>\n",
              "    <tr>\n",
              "      <th>3</th>\n",
              "      <td>18.05.2022 5:38</td>\n",
              "      <td></td>\n",
              "      <td></td>\n",
              "      <td>в.</td>\n",
              "      <td>2</td>\n",
              "      <td></td>\n",
              "      <td>0</td>\n",
              "      <td>2022-05-18 05:38:00</td>\n",
              "    </tr>\n",
              "    <tr>\n",
              "      <th>4</th>\n",
              "      <td>18.05.2022 5:56</td>\n",
              "      <td></td>\n",
              "      <td></td>\n",
              "      <td>у к» 05</td>\n",
              "      <td></td>\n",
              "      <td></td>\n",
              "      <td>0</td>\n",
              "      <td>2022-05-18 05:56:00</td>\n",
              "    </tr>\n",
              "    <tr>\n",
              "      <th>...</th>\n",
              "      <td>...</td>\n",
              "      <td>...</td>\n",
              "      <td>...</td>\n",
              "      <td>...</td>\n",
              "      <td>...</td>\n",
              "      <td>...</td>\n",
              "      <td>...</td>\n",
              "      <td>...</td>\n",
              "    </tr>\n",
              "    <tr>\n",
              "      <th>579231</th>\n",
              "      <td>02.05.2022 0:47</td>\n",
              "      <td>Капюшон ночного штурма.</td>\n",
              "      <td>средний</td>\n",
              "      <td>Сопенбург Е</td>\n",
              "      <td>Выку</td>\n",
              "      <td>3164</td>\n",
              "      <td>3993332</td>\n",
              "      <td>2022-02-05 00:47:00</td>\n",
              "    </tr>\n",
              "    <tr>\n",
              "      <th>579232</th>\n",
              "      <td>02.05.2022 1:03</td>\n",
              "      <td>Капюшон ночного штурма.</td>\n",
              "      <td>средний</td>\n",
              "      <td>Сопенбург Е</td>\n",
              "      <td>Выку</td>\n",
              "      <td>3164</td>\n",
              "      <td>3993332</td>\n",
              "      <td>2022-02-05 01:03:00</td>\n",
              "    </tr>\n",
              "    <tr>\n",
              "      <th>579233</th>\n",
              "      <td>25.05.2022 4:59</td>\n",
              "      <td>Хладное око Ребрада</td>\n",
              "      <td>лытельный</td>\n",
              "      <td></td>\n",
              "      <td>Выку</td>\n",
              "      <td>27000</td>\n",
              "      <td>7427100</td>\n",
              "      <td>2022-05-25 04:59:00</td>\n",
              "    </tr>\n",
              "    <tr>\n",
              "      <th>579234</th>\n",
              "      <td>27.04.2022 8:59</td>\n",
              "      <td>Хладное око Ребрада</td>\n",
              "      <td>лытельный</td>\n",
              "      <td></td>\n",
              "      <td>Выку</td>\n",
              "      <td>27000</td>\n",
              "      <td>7427100</td>\n",
              "      <td>2022-04-27 08:59:00</td>\n",
              "    </tr>\n",
              "    <tr>\n",
              "      <th>579235</th>\n",
              "      <td>29.04.2022 10:01</td>\n",
              "      <td>Хладное око Ребрада</td>\n",
              "      <td>лытельный</td>\n",
              "      <td></td>\n",
              "      <td>Выку</td>\n",
              "      <td>27000</td>\n",
              "      <td>7427100</td>\n",
              "      <td>2022-04-29 10:01:00</td>\n",
              "    </tr>\n",
              "  </tbody>\n",
              "</table>\n",
              "<p>579236 rows × 8 columns</p>\n",
              "</div>\n",
              "      <button class=\"colab-df-convert\" onclick=\"convertToInteractive('df-8a4d764d-f91e-4a18-a594-6fa79ade1193')\"\n",
              "              title=\"Convert this dataframe to an interactive table.\"\n",
              "              style=\"display:none;\">\n",
              "        \n",
              "  <svg xmlns=\"http://www.w3.org/2000/svg\" height=\"24px\"viewBox=\"0 0 24 24\"\n",
              "       width=\"24px\">\n",
              "    <path d=\"M0 0h24v24H0V0z\" fill=\"none\"/>\n",
              "    <path d=\"M18.56 5.44l.94 2.06.94-2.06 2.06-.94-2.06-.94-.94-2.06-.94 2.06-2.06.94zm-11 1L8.5 8.5l.94-2.06 2.06-.94-2.06-.94L8.5 2.5l-.94 2.06-2.06.94zm10 10l.94 2.06.94-2.06 2.06-.94-2.06-.94-.94-2.06-.94 2.06-2.06.94z\"/><path d=\"M17.41 7.96l-1.37-1.37c-.4-.4-.92-.59-1.43-.59-.52 0-1.04.2-1.43.59L10.3 9.45l-7.72 7.72c-.78.78-.78 2.05 0 2.83L4 21.41c.39.39.9.59 1.41.59.51 0 1.02-.2 1.41-.59l7.78-7.78 2.81-2.81c.8-.78.8-2.07 0-2.86zM5.41 20L4 18.59l7.72-7.72 1.47 1.35L5.41 20z\"/>\n",
              "  </svg>\n",
              "      </button>\n",
              "      \n",
              "  <style>\n",
              "    .colab-df-container {\n",
              "      display:flex;\n",
              "      flex-wrap:wrap;\n",
              "      gap: 12px;\n",
              "    }\n",
              "\n",
              "    .colab-df-convert {\n",
              "      background-color: #E8F0FE;\n",
              "      border: none;\n",
              "      border-radius: 50%;\n",
              "      cursor: pointer;\n",
              "      display: none;\n",
              "      fill: #1967D2;\n",
              "      height: 32px;\n",
              "      padding: 0 0 0 0;\n",
              "      width: 32px;\n",
              "    }\n",
              "\n",
              "    .colab-df-convert:hover {\n",
              "      background-color: #E2EBFA;\n",
              "      box-shadow: 0px 1px 2px rgba(60, 64, 67, 0.3), 0px 1px 3px 1px rgba(60, 64, 67, 0.15);\n",
              "      fill: #174EA6;\n",
              "    }\n",
              "\n",
              "    [theme=dark] .colab-df-convert {\n",
              "      background-color: #3B4455;\n",
              "      fill: #D2E3FC;\n",
              "    }\n",
              "\n",
              "    [theme=dark] .colab-df-convert:hover {\n",
              "      background-color: #434B5C;\n",
              "      box-shadow: 0px 1px 3px 1px rgba(0, 0, 0, 0.15);\n",
              "      filter: drop-shadow(0px 1px 2px rgba(0, 0, 0, 0.3));\n",
              "      fill: #FFFFFF;\n",
              "    }\n",
              "  </style>\n",
              "\n",
              "      <script>\n",
              "        const buttonEl =\n",
              "          document.querySelector('#df-8a4d764d-f91e-4a18-a594-6fa79ade1193 button.colab-df-convert');\n",
              "        buttonEl.style.display =\n",
              "          google.colab.kernel.accessAllowed ? 'block' : 'none';\n",
              "\n",
              "        async function convertToInteractive(key) {\n",
              "          const element = document.querySelector('#df-8a4d764d-f91e-4a18-a594-6fa79ade1193');\n",
              "          const dataTable =\n",
              "            await google.colab.kernel.invokeFunction('convertToInteractive',\n",
              "                                                     [key], {});\n",
              "          if (!dataTable) return;\n",
              "\n",
              "          const docLinkHtml = 'Like what you see? Visit the ' +\n",
              "            '<a target=\"_blank\" href=https://colab.research.google.com/notebooks/data_table.ipynb>data table notebook</a>'\n",
              "            + ' to learn more about interactive tables.';\n",
              "          element.innerHTML = '';\n",
              "          dataTable['output_type'] = 'display_data';\n",
              "          await google.colab.output.renderOutput(dataTable, element);\n",
              "          const docLink = document.createElement('div');\n",
              "          docLink.innerHTML = docLinkHtml;\n",
              "          element.appendChild(docLink);\n",
              "        }\n",
              "      </script>\n",
              "    </div>\n",
              "  </div>\n",
              "  "
            ]
          },
          "metadata": {},
          "execution_count": 9
        }
      ]
    },
    {
      "cell_type": "code",
      "source": [
        "df.name_pred.unique()"
      ],
      "metadata": {
        "colab": {
          "base_uri": "https://localhost:8080/"
        },
        "id": "okLeb63mzCa1",
        "outputId": "61bc03b1-9ffb-4e44-a10e-17f302146a85"
      },
      "execution_count": 10,
      "outputs": [
        {
          "output_type": "execute_result",
          "data": {
            "text/plain": [
              "array(['ох ', 'у № ', ' ', ...,\n",
              "       'пе. И бис Г: | Благословенные кенарийские сапоги ',\n",
              "       'Закаленный шлем из титановой стали ',\n",
              "       'Брюки лазугчика со знаком совы '], dtype=object)"
            ]
          },
          "metadata": {},
          "execution_count": 10
        }
      ]
    },
    {
      "cell_type": "code",
      "source": [
        "a=df[df['name_pred'].str.contains(r'\\bЖемчужное плетеное')]"
      ],
      "metadata": {
        "id": "q5EYExv827lg"
      },
      "execution_count": 11,
      "outputs": []
    },
    {
      "cell_type": "code",
      "source": [
        "import matplotlib.pyplot as plt\n",
        "a.plot(x=\"day\", y=\"price_vik\", figsize = (15.5, 6.5), ylabel='price', title='Товар: Жемчужное плетеное колье печатью уклонения', legend=None)\n",
        "plt.show()"
      ],
      "metadata": {
        "colab": {
          "base_uri": "https://localhost:8080/",
          "height": 424
        },
        "id": "Q1C6gNO53qMv",
        "outputId": "2f2a564f-dac3-4f5a-cba0-31abde3a9072"
      },
      "execution_count": 12,
      "outputs": [
        {
          "output_type": "display_data",
          "data": {
            "text/plain": [
              "<Figure size 1116x468 with 1 Axes>"
            ],
            "image/png": "[encoded data removed]"
          },
          "metadata": {
            "needs_background": "light"
          }
        }
      ]
    },
    {
      "cell_type": "code",
      "source": [
        "a.boxplot(column='price_vik')"
      ],
      "metadata": {
        "colab": {
          "base_uri": "https://localhost:8080/",
          "height": 284
        },
        "id": "4nMa9cby451Z",
        "outputId": "3cc3402e-9e3d-44ff-bd8c-57cb4684cc54"
      },
      "execution_count": 13,
      "outputs": [
        {
          "output_type": "execute_result",
          "data": {
            "text/plain": [
              "<matplotlib.axes._subplots.AxesSubplot at 0x7fb1fc47f0d0>"
            ]
          },
          "metadata": {},
          "execution_count": 13
        },
        {
          "output_type": "display_data",
          "data": {
            "text/plain": [
              "<Figure size 432x288 with 1 Axes>"
            ],
            "image/png": "[encoded data removed]"
          },
          "metadata": {
            "needs_background": "light"
          }
        }
      ]
    },
    {
      "cell_type": "code",
      "source": [
        "sns.set_theme(style=\"whitegrid\")\n",
        "plt.figure(figsize=(9,6))\n",
        "ax = sns.boxplot(x=a[\"price_vik\"])\n",
        "\n",
        "\n"
      ],
      "metadata": {
        "colab": {
          "base_uri": "https://localhost:8080/",
          "height": 394
        },
        "id": "gdGqrUHpiFqA",
        "outputId": "2c51b25a-8764-4eaa-91b6-f1ea636421a5"
      },
      "execution_count": 14,
      "outputs": [
        {
          "output_type": "display_data",
          "data": {
            "text/plain": [
              "<Figure size 648x432 with 1 Axes>"
            ],
            "image/png": "[encoded data removed]"
          },
          "metadata": {}
        }
      ]
    },
    {
      "cell_type": "code",
      "source": [
        "a.price_vik.hist()"
      ],
      "metadata": {
        "colab": {
          "base_uri": "https://localhost:8080/",
          "height": 286
        },
        "id": "1SO1S1un_KnJ",
        "outputId": "514239a5-4bc4-4580-d792-385ce12bad74"
      },
      "execution_count": 15,
      "outputs": [
        {
          "output_type": "execute_result",
          "data": {
            "text/plain": [
              "<matplotlib.axes._subplots.AxesSubplot at 0x7fb1fc499bd0>"
            ]
          },
          "metadata": {},
          "execution_count": 15
        },
        {
          "output_type": "display_data",
          "data": {
            "text/plain": [
              "<Figure size 432x288 with 1 Axes>"
            ],
            "image/png": "[encoded data removed]"
          },
          "metadata": {}
        }
      ]
    },
    {
      "cell_type": "code",
      "source": [
        "a['price_vik'].plot.kde()"
      ],
      "metadata": {
        "colab": {
          "base_uri": "https://localhost:8080/",
          "height": 290
        },
        "id": "dfTdeprN_Zpd",
        "outputId": "02b4e51b-003b-44fd-a601-d0bffba5afae"
      },
      "execution_count": 16,
      "outputs": [
        {
          "output_type": "execute_result",
          "data": {
            "text/plain": [
              "<matplotlib.axes._subplots.AxesSubplot at 0x7fb1fc376990>"
            ]
          },
          "metadata": {},
          "execution_count": 16
        },
        {
          "output_type": "display_data",
          "data": {
            "text/plain": [
              "<Figure size 432x288 with 1 Axes>"
            ],
            "image/png": "[encoded data removed]"
          },
          "metadata": {}
        }
      ]
    },
    {
      "cell_type": "code",
      "source": [
        "\n",
        "plt.figure(figsize=(15,8))\n",
        "sns.distplot(a['price_vik'])"
      ],
      "metadata": {
        "colab": {
          "base_uri": "https://localhost:8080/",
          "height": 576
        },
        "id": "5xlNvURSfnEQ",
        "outputId": "4e991298-7f58-4dbb-f10e-5720d2e486e3"
      },
      "execution_count": 17,
      "outputs": [
        {
          "output_type": "stream",
          "name": "stderr",
          "text": [
            "/usr/local/lib/python3.7/dist-packages/seaborn/distributions.py:2619: FutureWarning: `distplot` is a deprecated function and will be removed in a future version. Please adapt your code to use either `displot` (a figure-level function with similar flexibility) or `histplot` (an axes-level function for histograms).\n",
            "  warnings.warn(msg, FutureWarning)\n"
          ]
        },
        {
          "output_type": "execute_result",
          "data": {
            "text/plain": [
              "<matplotlib.axes._subplots.AxesSubplot at 0x7fb1fc318d50>"
            ]
          },
          "metadata": {},
          "execution_count": 17
        },
        {
          "output_type": "display_data",
          "data": {
            "text/plain": [
              "<Figure size 1080x576 with 1 Axes>"
            ],
            "image/png": "[encoded data removed]"
          },
          "metadata": {}
        }
      ]
    },
    {
      "cell_type": "code",
      "source": [
        "b=df[df['name_pred'].str.contains(r'\\bТопор лесоруба')]\n",
        "b.plot(x=\"day\", y=\"price_vik\")\n",
        "plt.show()\n",
        "b.boxplot(column='price_vik')"
      ],
      "metadata": {
        "id": "MS27U3ea5bf6",
        "colab": {
          "base_uri": "https://localhost:8080/",
          "height": 564
        },
        "outputId": "04916403-e86d-4274-f433-6d88201e6207"
      },
      "execution_count": 18,
      "outputs": [
        {
          "output_type": "display_data",
          "data": {
            "text/plain": [
              "<Figure size 432x288 with 1 Axes>"
            ],
            "image/png": "[encoded data removed]"
          },
          "metadata": {}
        },
        {
          "output_type": "execute_result",
          "data": {
            "text/plain": [
              "<matplotlib.axes._subplots.AxesSubplot at 0x7fb1fc1b5890>"
            ]
          },
          "metadata": {},
          "execution_count": 18
        },
        {
          "output_type": "display_data",
          "data": {
            "text/plain": [
              "<Figure size 432x288 with 1 Axes>"
            ],
            "image/png": "[encoded data removed]"
          },
          "metadata": {}
        }
      ]
    },
    {
      "cell_type": "code",
      "source": [
        "b.price_vik.hist()"
      ],
      "metadata": {
        "colab": {
          "base_uri": "https://localhost:8080/",
          "height": 286
        },
        "id": "cgyll8dK5bj_",
        "outputId": "2e8fbdf6-e9a3-447d-c1d8-dc6570a3271c"
      },
      "execution_count": 19,
      "outputs": [
        {
          "output_type": "execute_result",
          "data": {
            "text/plain": [
              "<matplotlib.axes._subplots.AxesSubplot at 0x7fb1fc21fa10>"
            ]
          },
          "metadata": {},
          "execution_count": 19
        },
        {
          "output_type": "display_data",
          "data": {
            "text/plain": [
              "<Figure size 432x288 with 1 Axes>"
            ],
            "image/png": "[encoded data removed]"
          },
          "metadata": {}
        }
      ]
    },
    {
      "cell_type": "code",
      "source": [
        "q=df['name_pred'].value_counts().head(5)"
      ],
      "metadata": {
        "id": "7EzP6VSH5boS"
      },
      "execution_count": 20,
      "outputs": []
    },
    {
      "cell_type": "code",
      "source": [
        "q"
      ],
      "metadata": {
        "colab": {
          "base_uri": "https://localhost:8080/"
        },
        "id": "7AY5sUqxCZmX",
        "outputId": "1177c64a-f0a1-41b6-bc4e-f21c90287260"
      },
      "execution_count": 21,
      "outputs": [
        {
          "output_type": "execute_result",
          "data": {
            "text/plain": [
              "Карта Новолуния: Берсерк!           11213\n",
              "Зелье дикой магии                   10827\n",
              "Рунический флакон с зельем маны      8504\n",
              "Настой бесконечной ярости            7619\n",
              "Огненный зев                         6351\n",
              "Name: name_pred, dtype: int64"
            ]
          },
          "metadata": {},
          "execution_count": 21
        }
      ]
    },
    {
      "cell_type": "code",
      "source": [
        "q.to_frame()"
      ],
      "metadata": {
        "colab": {
          "base_uri": "https://localhost:8080/",
          "height": 206
        },
        "id": "Kr3Oehb2CiVl",
        "outputId": "4e38de0e-9d6f-4b96-ece6-0b882c09aeb2"
      },
      "execution_count": 22,
      "outputs": [
        {
          "output_type": "execute_result",
          "data": {
            "text/plain": [
              "                                  name_pred\n",
              "Карта Новолуния: Берсерк!             11213\n",
              "Зелье дикой магии                     10827\n",
              "Рунический флакон с зельем маны        8504\n",
              "Настой бесконечной ярости              7619\n",
              "Огненный зев                           6351"
            ],
            "text/html": [
              "\n",
              "  <div id=\"df-d14d3205-9a64-4246-bcdb-700f26d4e173\">\n",
              "    <div class=\"colab-df-container\">\n",
              "      <div>\n",
              "<style scoped>\n",
              "    .dataframe tbody tr th:only-of-type {\n",
              "        vertical-align: middle;\n",
              "    }\n",
              "\n",
              "    .dataframe tbody tr th {\n",
              "        vertical-align: top;\n",
              "    }\n",
              "\n",
              "    .dataframe thead th {\n",
              "        text-align: right;\n",
              "    }\n",
              "</style>\n",
              "<table border=\"1\" class=\"dataframe\">\n",
              "  <thead>\n",
              "    <tr style=\"text-align: right;\">\n",
              "      <th></th>\n",
              "      <th>name_pred</th>\n",
              "    </tr>\n",
              "  </thead>\n",
              "  <tbody>\n",
              "    <tr>\n",
              "      <th>Карта Новолуния: Берсерк!</th>\n",
              "      <td>11213</td>\n",
              "    </tr>\n",
              "    <tr>\n",
              "      <th>Зелье дикой магии</th>\n",
              "      <td>10827</td>\n",
              "    </tr>\n",
              "    <tr>\n",
              "      <th>Рунический флакон с зельем маны</th>\n",
              "      <td>8504</td>\n",
              "    </tr>\n",
              "    <tr>\n",
              "      <th>Настой бесконечной ярости</th>\n",
              "      <td>7619</td>\n",
              "    </tr>\n",
              "    <tr>\n",
              "      <th>Огненный зев</th>\n",
              "      <td>6351</td>\n",
              "    </tr>\n",
              "  </tbody>\n",
              "</table>\n",
              "</div>\n",
              "      <button class=\"colab-df-convert\" onclick=\"convertToInteractive('df-d14d3205-9a64-4246-bcdb-700f26d4e173')\"\n",
              "              title=\"Convert this dataframe to an interactive table.\"\n",
              "              style=\"display:none;\">\n",
              "        \n",
              "  <svg xmlns=\"http://www.w3.org/2000/svg\" height=\"24px\"viewBox=\"0 0 24 24\"\n",
              "       width=\"24px\">\n",
              "    <path d=\"M0 0h24v24H0V0z\" fill=\"none\"/>\n",
              "    <path d=\"M18.56 5.44l.94 2.06.94-2.06 2.06-.94-2.06-.94-.94-2.06-.94 2.06-2.06.94zm-11 1L8.5 8.5l.94-2.06 2.06-.94-2.06-.94L8.5 2.5l-.94 2.06-2.06.94zm10 10l.94 2.06.94-2.06 2.06-.94-2.06-.94-.94-2.06-.94 2.06-2.06.94z\"/><path d=\"M17.41 7.96l-1.37-1.37c-.4-.4-.92-.59-1.43-.59-.52 0-1.04.2-1.43.59L10.3 9.45l-7.72 7.72c-.78.78-.78 2.05 0 2.83L4 21.41c.39.39.9.59 1.41.59.51 0 1.02-.2 1.41-.59l7.78-7.78 2.81-2.81c.8-.78.8-2.07 0-2.86zM5.41 20L4 18.59l7.72-7.72 1.47 1.35L5.41 20z\"/>\n",
              "  </svg>\n",
              "      </button>\n",
              "      \n",
              "  <style>\n",
              "    .colab-df-container {\n",
              "      display:flex;\n",
              "      flex-wrap:wrap;\n",
              "      gap: 12px;\n",
              "    }\n",
              "\n",
              "    .colab-df-convert {\n",
              "      background-color: #E8F0FE;\n",
              "      border: none;\n",
              "      border-radius: 50%;\n",
              "      cursor: pointer;\n",
              "      display: none;\n",
              "      fill: #1967D2;\n",
              "      height: 32px;\n",
              "      padding: 0 0 0 0;\n",
              "      width: 32px;\n",
              "    }\n",
              "\n",
              "    .colab-df-convert:hover {\n",
              "      background-color: #E2EBFA;\n",
              "      box-shadow: 0px 1px 2px rgba(60, 64, 67, 0.3), 0px 1px 3px 1px rgba(60, 64, 67, 0.15);\n",
              "      fill: #174EA6;\n",
              "    }\n",
              "\n",
              "    [theme=dark] .colab-df-convert {\n",
              "      background-color: #3B4455;\n",
              "      fill: #D2E3FC;\n",
              "    }\n",
              "\n",
              "    [theme=dark] .colab-df-convert:hover {\n",
              "      background-color: #434B5C;\n",
              "      box-shadow: 0px 1px 3px 1px rgba(0, 0, 0, 0.15);\n",
              "      filter: drop-shadow(0px 1px 2px rgba(0, 0, 0, 0.3));\n",
              "      fill: #FFFFFF;\n",
              "    }\n",
              "  </style>\n",
              "\n",
              "      <script>\n",
              "        const buttonEl =\n",
              "          document.querySelector('#df-d14d3205-9a64-4246-bcdb-700f26d4e173 button.colab-df-convert');\n",
              "        buttonEl.style.display =\n",
              "          google.colab.kernel.accessAllowed ? 'block' : 'none';\n",
              "\n",
              "        async function convertToInteractive(key) {\n",
              "          const element = document.querySelector('#df-d14d3205-9a64-4246-bcdb-700f26d4e173');\n",
              "          const dataTable =\n",
              "            await google.colab.kernel.invokeFunction('convertToInteractive',\n",
              "                                                     [key], {});\n",
              "          if (!dataTable) return;\n",
              "\n",
              "          const docLinkHtml = 'Like what you see? Visit the ' +\n",
              "            '<a target=\"_blank\" href=https://colab.research.google.com/notebooks/data_table.ipynb>data table notebook</a>'\n",
              "            + ' to learn more about interactive tables.';\n",
              "          element.innerHTML = '';\n",
              "          dataTable['output_type'] = 'display_data';\n",
              "          await google.colab.output.renderOutput(dataTable, element);\n",
              "          const docLink = document.createElement('div');\n",
              "          docLink.innerHTML = docLinkHtml;\n",
              "          element.appendChild(docLink);\n",
              "        }\n",
              "      </script>\n",
              "    </div>\n",
              "  </div>\n",
              "  "
            ]
          },
          "metadata": {},
          "execution_count": 22
        }
      ]
    },
    {
      "cell_type": "code",
      "source": [
        "x = {'Name': ['Карта Новолуния: Берсерк!', 'Зелье дикой магии', 'Рунический флакон с зельем маны', 'Настой бесконечной ярости', 'Огненный зев'], 'Count': [11213, 10827, 8504, 7619, 6351]}  \n",
        "x = pd.DataFrame(x) "
      ],
      "metadata": {
        "id": "HjFix5MwGT7w"
      },
      "execution_count": 23,
      "outputs": []
    },
    {
      "cell_type": "code",
      "source": [
        "x"
      ],
      "metadata": {
        "colab": {
          "base_uri": "https://localhost:8080/",
          "height": 206
        },
        "id": "FwVty5sHGqNV",
        "outputId": "3c4c9a1c-ed87-40ff-8363-78a4a3f0d6d4"
      },
      "execution_count": 24,
      "outputs": [
        {
          "output_type": "execute_result",
          "data": {
            "text/plain": [
              "                              Name  Count\n",
              "0        Карта Новолуния: Берсерк!  11213\n",
              "1                Зелье дикой магии  10827\n",
              "2  Рунический флакон с зельем маны   8504\n",
              "3        Настой бесконечной ярости   7619\n",
              "4                     Огненный зев   6351"
            ],
            "text/html": [
              "\n",
              "  <div id=\"df-08ea26fb-2e53-440c-a228-6048becb27dc\">\n",
              "    <div class=\"colab-df-container\">\n",
              "      <div>\n",
              "<style scoped>\n",
              "    .dataframe tbody tr th:only-of-type {\n",
              "        vertical-align: middle;\n",
              "    }\n",
              "\n",
              "    .dataframe tbody tr th {\n",
              "        vertical-align: top;\n",
              "    }\n",
              "\n",
              "    .dataframe thead th {\n",
              "        text-align: right;\n",
              "    }\n",
              "</style>\n",
              "<table border=\"1\" class=\"dataframe\">\n",
              "  <thead>\n",
              "    <tr style=\"text-align: right;\">\n",
              "      <th></th>\n",
              "      <th>Name</th>\n",
              "      <th>Count</th>\n",
              "    </tr>\n",
              "  </thead>\n",
              "  <tbody>\n",
              "    <tr>\n",
              "      <th>0</th>\n",
              "      <td>Карта Новолуния: Берсерк!</td>\n",
              "      <td>11213</td>\n",
              "    </tr>\n",
              "    <tr>\n",
              "      <th>1</th>\n",
              "      <td>Зелье дикой магии</td>\n",
              "      <td>10827</td>\n",
              "    </tr>\n",
              "    <tr>\n",
              "      <th>2</th>\n",
              "      <td>Рунический флакон с зельем маны</td>\n",
              "      <td>8504</td>\n",
              "    </tr>\n",
              "    <tr>\n",
              "      <th>3</th>\n",
              "      <td>Настой бесконечной ярости</td>\n",
              "      <td>7619</td>\n",
              "    </tr>\n",
              "    <tr>\n",
              "      <th>4</th>\n",
              "      <td>Огненный зев</td>\n",
              "      <td>6351</td>\n",
              "    </tr>\n",
              "  </tbody>\n",
              "</table>\n",
              "</div>\n",
              "      <button class=\"colab-df-convert\" onclick=\"convertToInteractive('df-08ea26fb-2e53-440c-a228-6048becb27dc')\"\n",
              "              title=\"Convert this dataframe to an interactive table.\"\n",
              "              style=\"display:none;\">\n",
              "        \n",
              "  <svg xmlns=\"http://www.w3.org/2000/svg\" height=\"24px\"viewBox=\"0 0 24 24\"\n",
              "       width=\"24px\">\n",
              "    <path d=\"M0 0h24v24H0V0z\" fill=\"none\"/>\n",
              "    <path d=\"M18.56 5.44l.94 2.06.94-2.06 2.06-.94-2.06-.94-.94-2.06-.94 2.06-2.06.94zm-11 1L8.5 8.5l.94-2.06 2.06-.94-2.06-.94L8.5 2.5l-.94 2.06-2.06.94zm10 10l.94 2.06.94-2.06 2.06-.94-2.06-.94-.94-2.06-.94 2.06-2.06.94z\"/><path d=\"M17.41 7.96l-1.37-1.37c-.4-.4-.92-.59-1.43-.59-.52 0-1.04.2-1.43.59L10.3 9.45l-7.72 7.72c-.78.78-.78 2.05 0 2.83L4 21.41c.39.39.9.59 1.41.59.51 0 1.02-.2 1.41-.59l7.78-7.78 2.81-2.81c.8-.78.8-2.07 0-2.86zM5.41 20L4 18.59l7.72-7.72 1.47 1.35L5.41 20z\"/>\n",
              "  </svg>\n",
              "      </button>\n",
              "      \n",
              "  <style>\n",
              "    .colab-df-container {\n",
              "      display:flex;\n",
              "      flex-wrap:wrap;\n",
              "      gap: 12px;\n",
              "    }\n",
              "\n",
              "    .colab-df-convert {\n",
              "      background-color: #E8F0FE;\n",
              "      border: none;\n",
              "      border-radius: 50%;\n",
              "      cursor: pointer;\n",
              "      display: none;\n",
              "      fill: #1967D2;\n",
              "      height: 32px;\n",
              "      padding: 0 0 0 0;\n",
              "      width: 32px;\n",
              "    }\n",
              "\n",
              "    .colab-df-convert:hover {\n",
              "      background-color: #E2EBFA;\n",
              "      box-shadow: 0px 1px 2px rgba(60, 64, 67, 0.3), 0px 1px 3px 1px rgba(60, 64, 67, 0.15);\n",
              "      fill: #174EA6;\n",
              "    }\n",
              "\n",
              "    [theme=dark] .colab-df-convert {\n",
              "      background-color: #3B4455;\n",
              "      fill: #D2E3FC;\n",
              "    }\n",
              "\n",
              "    [theme=dark] .colab-df-convert:hover {\n",
              "      background-color: #434B5C;\n",
              "      box-shadow: 0px 1px 3px 1px rgba(0, 0, 0, 0.15);\n",
              "      filter: drop-shadow(0px 1px 2px rgba(0, 0, 0, 0.3));\n",
              "      fill: #FFFFFF;\n",
              "    }\n",
              "  </style>\n",
              "\n",
              "      <script>\n",
              "        const buttonEl =\n",
              "          document.querySelector('#df-08ea26fb-2e53-440c-a228-6048becb27dc button.colab-df-convert');\n",
              "        buttonEl.style.display =\n",
              "          google.colab.kernel.accessAllowed ? 'block' : 'none';\n",
              "\n",
              "        async function convertToInteractive(key) {\n",
              "          const element = document.querySelector('#df-08ea26fb-2e53-440c-a228-6048becb27dc');\n",
              "          const dataTable =\n",
              "            await google.colab.kernel.invokeFunction('convertToInteractive',\n",
              "                                                     [key], {});\n",
              "          if (!dataTable) return;\n",
              "\n",
              "          const docLinkHtml = 'Like what you see? Visit the ' +\n",
              "            '<a target=\"_blank\" href=https://colab.research.google.com/notebooks/data_table.ipynb>data table notebook</a>'\n",
              "            + ' to learn more about interactive tables.';\n",
              "          element.innerHTML = '';\n",
              "          dataTable['output_type'] = 'display_data';\n",
              "          await google.colab.output.renderOutput(dataTable, element);\n",
              "          const docLink = document.createElement('div');\n",
              "          docLink.innerHTML = docLinkHtml;\n",
              "          element.appendChild(docLink);\n",
              "        }\n",
              "      </script>\n",
              "    </div>\n",
              "  </div>\n",
              "  "
            ]
          },
          "metadata": {},
          "execution_count": 24
        }
      ]
    },
    {
      "cell_type": "code",
      "source": [
        "plt.figure(figsize=(22,8))\n",
        "plt.bar(x.Name, x.Count)\n",
        "plt.show()"
      ],
      "metadata": {
        "colab": {
          "base_uri": "https://localhost:8080/",
          "height": 485
        },
        "id": "NeramggdHKYZ",
        "outputId": "e0c3624b-1a3d-4fc1-d03f-ae1d5cf1c073"
      },
      "execution_count": 25,
      "outputs": [
        {
          "output_type": "display_data",
          "data": {
            "text/plain": [
              "<Figure size 1584x576 with 1 Axes>"
            ],
            "image/png": "[encoded data removed]"
          },
          "metadata": {}
        }
      ]
    },
    {
      "cell_type": "code",
      "source": [
        "import numpy as np\n",
        "fig, ax = plt.subplots()\n",
        "\n",
        "color_rectangle = ['mediumvioletred','deeppink','hotpink','plum','pink']   # RGB\n",
        "ax.bar(x.Name, x.Count, color = color_rectangle)\n",
        "plt.ylabel(\"Count\", fontsize=19)\n",
        "plt.xticks(fontsize=19, rotation=22)\n",
        "fig.set_figwidth(27)    #  ширина и\n",
        "fig.set_figheight(8)    #  высота \"Figure\"\n",
        "fig.set_facecolor('floralwhite')\n",
        "ax.set_facecolor('seashell')\n",
        "\n",
        "plt.show()"
      ],
      "metadata": {
        "colab": {
          "base_uri": "https://localhost:8080/",
          "height": 515
        },
        "id": "x_WTPKBxoYKw",
        "outputId": "8e75cdd6-0c90-4b10-97fe-5c2cd456d71e"
      },
      "execution_count": 26,
      "outputs": [
        {
          "output_type": "display_data",
          "data": {
            "text/plain": [
              "<Figure size 1944x576 with 1 Axes>"
            ],
            "image/png": "[encoded data removed]"
          },
          "metadata": {}
        }
      ]
    },
    {
      "cell_type": "code",
      "source": [
        "df1=df[df['name_pred'].str.contains(r'\\bПлащ из меха мамонта')]\n",
        "df2=df[df['name_pred'].str.contains(r'\\bКожаный плащ')]"
      ],
      "metadata": {
        "id": "2qo7tm7tzbTB"
      },
      "execution_count": 27,
      "outputs": []
    },
    {
      "cell_type": "code",
      "source": [
        "sns.set_theme(style=\"whitegrid\")\n",
        "plt.figure(figsize=(9,6))\n",
        "ax = sns.boxplot(x=df1[\"price_vik\"]).set_title('Плащ из меха мамонта')\n"
      ],
      "metadata": {
        "colab": {
          "base_uri": "https://localhost:8080/",
          "height": 410
        },
        "id": "XY7HdHS0yexN",
        "outputId": "f41eb216-5c08-4872-bae8-1ca9121243d6"
      },
      "execution_count": 28,
      "outputs": [
        {
          "output_type": "display_data",
          "data": {
            "text/plain": [
              "<Figure size 648x432 with 1 Axes>"
            ],
            "image/png": "[encoded data removed]"
          },
          "metadata": {}
        }
      ]
    },
    {
      "cell_type": "code",
      "source": [
        "sns.set_theme(style=\"whitegrid\")\n",
        "plt.figure(figsize=(9,6))\n",
        "ax = sns.boxplot(x=df2[\"price_vik\"]).set_title('Кожаный плащ')"
      ],
      "metadata": {
        "colab": {
          "base_uri": "https://localhost:8080/",
          "height": 410
        },
        "id": "ns0C5eoI22WP",
        "outputId": "b68bef78-c799-467a-87f2-002d25bc0752"
      },
      "execution_count": 29,
      "outputs": [
        {
          "output_type": "display_data",
          "data": {
            "text/plain": [
              "<Figure size 648x432 with 1 Axes>"
            ],
            "image/png": "[encoded data removed]"
          },
          "metadata": {}
        }
      ]
    },
    {
      "cell_type": "code",
      "source": [
        "ww=df[df['name_pred'].str.contains(r'\\bКарта Новолуния: Берсерк!')]"
      ],
      "metadata": {
        "id": "f351X3cGUV0G"
      },
      "execution_count": 42,
      "outputs": []
    },
    {
      "cell_type": "code",
      "source": [
        "ww"
      ],
      "metadata": {
        "colab": {
          "base_uri": "https://localhost:8080/",
          "height": 424
        },
        "id": "vfhqVBiiXhNE",
        "outputId": "62118258-61f2-4f4b-833e-b68e938254c1"
      },
      "execution_count": 43,
      "outputs": [
        {
          "output_type": "execute_result",
          "data": {
            "text/plain": [
              "                   time                             name_pred   srok_lota  \\\n",
              "471250  16.05.2022 0:03            Карта Новолуния: Берсерк!     средний    \n",
              "471251  16.05.2022 0:03            Карта Новолуния: Берсерк!     средний    \n",
              "471252  16.05.2022 0:03            Карта Новолуния: Берсерк!     средний    \n",
              "471253  16.05.2022 0:03            Карта Новолуния: Берсерк!     средний    \n",
              "471254  16.05.2022 0:03            Карта Новолуния: Берсерк!     средний    \n",
              "...                 ...                                   ...         ...   \n",
              "569639  30.04.2022 7:30  Карта Новолуния: Берсерк! Ок ыЕ, ЕН   лытельный    \n",
              "569640  30.04.2022 7:30            Карта Новолуния: Берсерк!   лытельный    \n",
              "569641  30.04.2022 7:30  Карта Новолуния: Берсерк! Ок ыЕ, ЕН   лытельный    \n",
              "569642  30.04.2022 7:31            Карта Новолуния: Берсерк!   лытельный    \n",
              "569643  30.04.2022 7:31  Карта Новолуния: Берсерк! Ок ыЕ, ЕН   лытельный    \n",
              "\n",
              "          name_pers  vikup price_stav  price_vik                 day  \n",
              "471250      Ппипиу   Выку       14100       1460 2022-05-16 00:03:00  \n",
              "471251      Ппипиу   Выку       14100       1460 2022-05-16 00:03:00  \n",
              "471252      Ппипиу   Выку       14100       1460 2022-05-16 00:03:00  \n",
              "471253      Ппипиу   Выку       14100       1460 2022-05-16 00:03:00  \n",
              "471254      Ппипиу   Выку       14100       1460 2022-05-16 00:03:00  \n",
              "...             ...    ...        ...        ...                 ...  \n",
              "569639  Ночьювлесу   Выку       22222      23333 2022-04-30 07:30:00  \n",
              "569640  Ночьювлесу   выку       22222      23333 2022-04-30 07:30:00  \n",
              "569641  Ночьювлесу   Выку       22222      23333 2022-04-30 07:30:00  \n",
              "569642  Ночьювлесу   выку       22222      23333 2022-04-30 07:31:00  \n",
              "569643  Ночьювлесу   Выку       22222      23333 2022-04-30 07:31:00  \n",
              "\n",
              "[19466 rows x 8 columns]"
            ],
            "text/html": [
              "\n",
              "  <div id=\"df-55efb69b-f930-4186-8bac-4d3fbd93c5ff\">\n",
              "    <div class=\"colab-df-container\">\n",
              "      <div>\n",
              "<style scoped>\n",
              "    .dataframe tbody tr th:only-of-type {\n",
              "        vertical-align: middle;\n",
              "    }\n",
              "\n",
              "    .dataframe tbody tr th {\n",
              "        vertical-align: top;\n",
              "    }\n",
              "\n",
              "    .dataframe thead th {\n",
              "        text-align: right;\n",
              "    }\n",
              "</style>\n",
              "<table border=\"1\" class=\"dataframe\">\n",
              "  <thead>\n",
              "    <tr style=\"text-align: right;\">\n",
              "      <th></th>\n",
              "      <th>time</th>\n",
              "      <th>name_pred</th>\n",
              "      <th>srok_lota</th>\n",
              "      <th>name_pers</th>\n",
              "      <th>vikup</th>\n",
              "      <th>price_stav</th>\n",
              "      <th>price_vik</th>\n",
              "      <th>day</th>\n",
              "    </tr>\n",
              "  </thead>\n",
              "  <tbody>\n",
              "    <tr>\n",
              "      <th>471250</th>\n",
              "      <td>16.05.2022 0:03</td>\n",
              "      <td>Карта Новолуния: Берсерк!</td>\n",
              "      <td>средний</td>\n",
              "      <td>Ппипиу</td>\n",
              "      <td>Выку</td>\n",
              "      <td>14100</td>\n",
              "      <td>1460</td>\n",
              "      <td>2022-05-16 00:03:00</td>\n",
              "    </tr>\n",
              "    <tr>\n",
              "      <th>471251</th>\n",
              "      <td>16.05.2022 0:03</td>\n",
              "      <td>Карта Новолуния: Берсерк!</td>\n",
              "      <td>средний</td>\n",
              "      <td>Ппипиу</td>\n",
              "      <td>Выку</td>\n",
              "      <td>14100</td>\n",
              "      <td>1460</td>\n",
              "      <td>2022-05-16 00:03:00</td>\n",
              "    </tr>\n",
              "    <tr>\n",
              "      <th>471252</th>\n",
              "      <td>16.05.2022 0:03</td>\n",
              "      <td>Карта Новолуния: Берсерк!</td>\n",
              "      <td>средний</td>\n",
              "      <td>Ппипиу</td>\n",
              "      <td>Выку</td>\n",
              "      <td>14100</td>\n",
              "      <td>1460</td>\n",
              "      <td>2022-05-16 00:03:00</td>\n",
              "    </tr>\n",
              "    <tr>\n",
              "      <th>471253</th>\n",
              "      <td>16.05.2022 0:03</td>\n",
              "      <td>Карта Новолуния: Берсерк!</td>\n",
              "      <td>средний</td>\n",
              "      <td>Ппипиу</td>\n",
              "      <td>Выку</td>\n",
              "      <td>14100</td>\n",
              "      <td>1460</td>\n",
              "      <td>2022-05-16 00:03:00</td>\n",
              "    </tr>\n",
              "    <tr>\n",
              "      <th>471254</th>\n",
              "      <td>16.05.2022 0:03</td>\n",
              "      <td>Карта Новолуния: Берсерк!</td>\n",
              "      <td>средний</td>\n",
              "      <td>Ппипиу</td>\n",
              "      <td>Выку</td>\n",
              "      <td>14100</td>\n",
              "      <td>1460</td>\n",
              "      <td>2022-05-16 00:03:00</td>\n",
              "    </tr>\n",
              "    <tr>\n",
              "      <th>...</th>\n",
              "      <td>...</td>\n",
              "      <td>...</td>\n",
              "      <td>...</td>\n",
              "      <td>...</td>\n",
              "      <td>...</td>\n",
              "      <td>...</td>\n",
              "      <td>...</td>\n",
              "      <td>...</td>\n",
              "    </tr>\n",
              "    <tr>\n",
              "      <th>569639</th>\n",
              "      <td>30.04.2022 7:30</td>\n",
              "      <td>Карта Новолуния: Берсерк! Ок ыЕ, ЕН</td>\n",
              "      <td>лытельный</td>\n",
              "      <td>Ночьювлесу</td>\n",
              "      <td>Выку</td>\n",
              "      <td>22222</td>\n",
              "      <td>23333</td>\n",
              "      <td>2022-04-30 07:30:00</td>\n",
              "    </tr>\n",
              "    <tr>\n",
              "      <th>569640</th>\n",
              "      <td>30.04.2022 7:30</td>\n",
              "      <td>Карта Новолуния: Берсерк!</td>\n",
              "      <td>лытельный</td>\n",
              "      <td>Ночьювлесу</td>\n",
              "      <td>выку</td>\n",
              "      <td>22222</td>\n",
              "      <td>23333</td>\n",
              "      <td>2022-04-30 07:30:00</td>\n",
              "    </tr>\n",
              "    <tr>\n",
              "      <th>569641</th>\n",
              "      <td>30.04.2022 7:30</td>\n",
              "      <td>Карта Новолуния: Берсерк! Ок ыЕ, ЕН</td>\n",
              "      <td>лытельный</td>\n",
              "      <td>Ночьювлесу</td>\n",
              "      <td>Выку</td>\n",
              "      <td>22222</td>\n",
              "      <td>23333</td>\n",
              "      <td>2022-04-30 07:30:00</td>\n",
              "    </tr>\n",
              "    <tr>\n",
              "      <th>569642</th>\n",
              "      <td>30.04.2022 7:31</td>\n",
              "      <td>Карта Новолуния: Берсерк!</td>\n",
              "      <td>лытельный</td>\n",
              "      <td>Ночьювлесу</td>\n",
              "      <td>выку</td>\n",
              "      <td>22222</td>\n",
              "      <td>23333</td>\n",
              "      <td>2022-04-30 07:31:00</td>\n",
              "    </tr>\n",
              "    <tr>\n",
              "      <th>569643</th>\n",
              "      <td>30.04.2022 7:31</td>\n",
              "      <td>Карта Новолуния: Берсерк! Ок ыЕ, ЕН</td>\n",
              "      <td>лытельный</td>\n",
              "      <td>Ночьювлесу</td>\n",
              "      <td>Выку</td>\n",
              "      <td>22222</td>\n",
              "      <td>23333</td>\n",
              "      <td>2022-04-30 07:31:00</td>\n",
              "    </tr>\n",
              "  </tbody>\n",
              "</table>\n",
              "<p>19466 rows × 8 columns</p>\n",
              "</div>\n",
              "      <button class=\"colab-df-convert\" onclick=\"convertToInteractive('df-55efb69b-f930-4186-8bac-4d3fbd93c5ff')\"\n",
              "              title=\"Convert this dataframe to an interactive table.\"\n",
              "              style=\"display:none;\">\n",
              "        \n",
              "  <svg xmlns=\"http://www.w3.org/2000/svg\" height=\"24px\"viewBox=\"0 0 24 24\"\n",
              "       width=\"24px\">\n",
              "    <path d=\"M0 0h24v24H0V0z\" fill=\"none\"/>\n",
              "    <path d=\"M18.56 5.44l.94 2.06.94-2.06 2.06-.94-2.06-.94-.94-2.06-.94 2.06-2.06.94zm-11 1L8.5 8.5l.94-2.06 2.06-.94-2.06-.94L8.5 2.5l-.94 2.06-2.06.94zm10 10l.94 2.06.94-2.06 2.06-.94-2.06-.94-.94-2.06-.94 2.06-2.06.94z\"/><path d=\"M17.41 7.96l-1.37-1.37c-.4-.4-.92-.59-1.43-.59-.52 0-1.04.2-1.43.59L10.3 9.45l-7.72 7.72c-.78.78-.78 2.05 0 2.83L4 21.41c.39.39.9.59 1.41.59.51 0 1.02-.2 1.41-.59l7.78-7.78 2.81-2.81c.8-.78.8-2.07 0-2.86zM5.41 20L4 18.59l7.72-7.72 1.47 1.35L5.41 20z\"/>\n",
              "  </svg>\n",
              "      </button>\n",
              "      \n",
              "  <style>\n",
              "    .colab-df-container {\n",
              "      display:flex;\n",
              "      flex-wrap:wrap;\n",
              "      gap: 12px;\n",
              "    }\n",
              "\n",
              "    .colab-df-convert {\n",
              "      background-color: #E8F0FE;\n",
              "      border: none;\n",
              "      border-radius: 50%;\n",
              "      cursor: pointer;\n",
              "      display: none;\n",
              "      fill: #1967D2;\n",
              "      height: 32px;\n",
              "      padding: 0 0 0 0;\n",
              "      width: 32px;\n",
              "    }\n",
              "\n",
              "    .colab-df-convert:hover {\n",
              "      background-color: #E2EBFA;\n",
              "      box-shadow: 0px 1px 2px rgba(60, 64, 67, 0.3), 0px 1px 3px 1px rgba(60, 64, 67, 0.15);\n",
              "      fill: #174EA6;\n",
              "    }\n",
              "\n",
              "    [theme=dark] .colab-df-convert {\n",
              "      background-color: #3B4455;\n",
              "      fill: #D2E3FC;\n",
              "    }\n",
              "\n",
              "    [theme=dark] .colab-df-convert:hover {\n",
              "      background-color: #434B5C;\n",
              "      box-shadow: 0px 1px 3px 1px rgba(0, 0, 0, 0.15);\n",
              "      filter: drop-shadow(0px 1px 2px rgba(0, 0, 0, 0.3));\n",
              "      fill: #FFFFFF;\n",
              "    }\n",
              "  </style>\n",
              "\n",
              "      <script>\n",
              "        const buttonEl =\n",
              "          document.querySelector('#df-55efb69b-f930-4186-8bac-4d3fbd93c5ff button.colab-df-convert');\n",
              "        buttonEl.style.display =\n",
              "          google.colab.kernel.accessAllowed ? 'block' : 'none';\n",
              "\n",
              "        async function convertToInteractive(key) {\n",
              "          const element = document.querySelector('#df-55efb69b-f930-4186-8bac-4d3fbd93c5ff');\n",
              "          const dataTable =\n",
              "            await google.colab.kernel.invokeFunction('convertToInteractive',\n",
              "                                                     [key], {});\n",
              "          if (!dataTable) return;\n",
              "\n",
              "          const docLinkHtml = 'Like what you see? Visit the ' +\n",
              "            '<a target=\"_blank\" href=https://colab.research.google.com/notebooks/data_table.ipynb>data table notebook</a>'\n",
              "            + ' to learn more about interactive tables.';\n",
              "          element.innerHTML = '';\n",
              "          dataTable['output_type'] = 'display_data';\n",
              "          await google.colab.output.renderOutput(dataTable, element);\n",
              "          const docLink = document.createElement('div');\n",
              "          docLink.innerHTML = docLinkHtml;\n",
              "          element.appendChild(docLink);\n",
              "        }\n",
              "      </script>\n",
              "    </div>\n",
              "  </div>\n",
              "  "
            ]
          },
          "metadata": {},
          "execution_count": 43
        }
      ]
    },
    {
      "cell_type": "code",
      "source": [
        "www=ww[['day', 'price_vik']]"
      ],
      "metadata": {
        "id": "VHEpGTrwb5dI"
      },
      "execution_count": 78,
      "outputs": []
    },
    {
      "cell_type": "code",
      "source": [
        "www"
      ],
      "metadata": {
        "colab": {
          "base_uri": "https://localhost:8080/",
          "height": 424
        },
        "id": "Fd9h1rZ4cG67",
        "outputId": "bfdd50e6-69cf-4220-b61a-00703e47bc7c"
      },
      "execution_count": 79,
      "outputs": [
        {
          "output_type": "execute_result",
          "data": {
            "text/plain": [
              "                       day  price_vik\n",
              "471250 2022-05-16 00:03:00       1460\n",
              "471251 2022-05-16 00:03:00       1460\n",
              "471252 2022-05-16 00:03:00       1460\n",
              "471253 2022-05-16 00:03:00       1460\n",
              "471254 2022-05-16 00:03:00       1460\n",
              "...                    ...        ...\n",
              "569639 2022-04-30 07:30:00      23333\n",
              "569640 2022-04-30 07:30:00      23333\n",
              "569641 2022-04-30 07:30:00      23333\n",
              "569642 2022-04-30 07:31:00      23333\n",
              "569643 2022-04-30 07:31:00      23333\n",
              "\n",
              "[19466 rows x 2 columns]"
            ],
            "text/html": [
              "\n",
              "  <div id=\"df-7e121b5b-e235-472d-b103-94033c76cea0\">\n",
              "    <div class=\"colab-df-container\">\n",
              "      <div>\n",
              "<style scoped>\n",
              "    .dataframe tbody tr th:only-of-type {\n",
              "        vertical-align: middle;\n",
              "    }\n",
              "\n",
              "    .dataframe tbody tr th {\n",
              "        vertical-align: top;\n",
              "    }\n",
              "\n",
              "    .dataframe thead th {\n",
              "        text-align: right;\n",
              "    }\n",
              "</style>\n",
              "<table border=\"1\" class=\"dataframe\">\n",
              "  <thead>\n",
              "    <tr style=\"text-align: right;\">\n",
              "      <th></th>\n",
              "      <th>day</th>\n",
              "      <th>price_vik</th>\n",
              "    </tr>\n",
              "  </thead>\n",
              "  <tbody>\n",
              "    <tr>\n",
              "      <th>471250</th>\n",
              "      <td>2022-05-16 00:03:00</td>\n",
              "      <td>1460</td>\n",
              "    </tr>\n",
              "    <tr>\n",
              "      <th>471251</th>\n",
              "      <td>2022-05-16 00:03:00</td>\n",
              "      <td>1460</td>\n",
              "    </tr>\n",
              "    <tr>\n",
              "      <th>471252</th>\n",
              "      <td>2022-05-16 00:03:00</td>\n",
              "      <td>1460</td>\n",
              "    </tr>\n",
              "    <tr>\n",
              "      <th>471253</th>\n",
              "      <td>2022-05-16 00:03:00</td>\n",
              "      <td>1460</td>\n",
              "    </tr>\n",
              "    <tr>\n",
              "      <th>471254</th>\n",
              "      <td>2022-05-16 00:03:00</td>\n",
              "      <td>1460</td>\n",
              "    </tr>\n",
              "    <tr>\n",
              "      <th>...</th>\n",
              "      <td>...</td>\n",
              "      <td>...</td>\n",
              "    </tr>\n",
              "    <tr>\n",
              "      <th>569639</th>\n",
              "      <td>2022-04-30 07:30:00</td>\n",
              "      <td>23333</td>\n",
              "    </tr>\n",
              "    <tr>\n",
              "      <th>569640</th>\n",
              "      <td>2022-04-30 07:30:00</td>\n",
              "      <td>23333</td>\n",
              "    </tr>\n",
              "    <tr>\n",
              "      <th>569641</th>\n",
              "      <td>2022-04-30 07:30:00</td>\n",
              "      <td>23333</td>\n",
              "    </tr>\n",
              "    <tr>\n",
              "      <th>569642</th>\n",
              "      <td>2022-04-30 07:31:00</td>\n",
              "      <td>23333</td>\n",
              "    </tr>\n",
              "    <tr>\n",
              "      <th>569643</th>\n",
              "      <td>2022-04-30 07:31:00</td>\n",
              "      <td>23333</td>\n",
              "    </tr>\n",
              "  </tbody>\n",
              "</table>\n",
              "<p>19466 rows × 2 columns</p>\n",
              "</div>\n",
              "      <button class=\"colab-df-convert\" onclick=\"convertToInteractive('df-7e121b5b-e235-472d-b103-94033c76cea0')\"\n",
              "              title=\"Convert this dataframe to an interactive table.\"\n",
              "              style=\"display:none;\">\n",
              "        \n",
              "  <svg xmlns=\"http://www.w3.org/2000/svg\" height=\"24px\"viewBox=\"0 0 24 24\"\n",
              "       width=\"24px\">\n",
              "    <path d=\"M0 0h24v24H0V0z\" fill=\"none\"/>\n",
              "    <path d=\"M18.56 5.44l.94 2.06.94-2.06 2.06-.94-2.06-.94-.94-2.06-.94 2.06-2.06.94zm-11 1L8.5 8.5l.94-2.06 2.06-.94-2.06-.94L8.5 2.5l-.94 2.06-2.06.94zm10 10l.94 2.06.94-2.06 2.06-.94-2.06-.94-.94-2.06-.94 2.06-2.06.94z\"/><path d=\"M17.41 7.96l-1.37-1.37c-.4-.4-.92-.59-1.43-.59-.52 0-1.04.2-1.43.59L10.3 9.45l-7.72 7.72c-.78.78-.78 2.05 0 2.83L4 21.41c.39.39.9.59 1.41.59.51 0 1.02-.2 1.41-.59l7.78-7.78 2.81-2.81c.8-.78.8-2.07 0-2.86zM5.41 20L4 18.59l7.72-7.72 1.47 1.35L5.41 20z\"/>\n",
              "  </svg>\n",
              "      </button>\n",
              "      \n",
              "  <style>\n",
              "    .colab-df-container {\n",
              "      display:flex;\n",
              "      flex-wrap:wrap;\n",
              "      gap: 12px;\n",
              "    }\n",
              "\n",
              "    .colab-df-convert {\n",
              "      background-color: #E8F0FE;\n",
              "      border: none;\n",
              "      border-radius: 50%;\n",
              "      cursor: pointer;\n",
              "      display: none;\n",
              "      fill: #1967D2;\n",
              "      height: 32px;\n",
              "      padding: 0 0 0 0;\n",
              "      width: 32px;\n",
              "    }\n",
              "\n",
              "    .colab-df-convert:hover {\n",
              "      background-color: #E2EBFA;\n",
              "      box-shadow: 0px 1px 2px rgba(60, 64, 67, 0.3), 0px 1px 3px 1px rgba(60, 64, 67, 0.15);\n",
              "      fill: #174EA6;\n",
              "    }\n",
              "\n",
              "    [theme=dark] .colab-df-convert {\n",
              "      background-color: #3B4455;\n",
              "      fill: #D2E3FC;\n",
              "    }\n",
              "\n",
              "    [theme=dark] .colab-df-convert:hover {\n",
              "      background-color: #434B5C;\n",
              "      box-shadow: 0px 1px 3px 1px rgba(0, 0, 0, 0.15);\n",
              "      filter: drop-shadow(0px 1px 2px rgba(0, 0, 0, 0.3));\n",
              "      fill: #FFFFFF;\n",
              "    }\n",
              "  </style>\n",
              "\n",
              "      <script>\n",
              "        const buttonEl =\n",
              "          document.querySelector('#df-7e121b5b-e235-472d-b103-94033c76cea0 button.colab-df-convert');\n",
              "        buttonEl.style.display =\n",
              "          google.colab.kernel.accessAllowed ? 'block' : 'none';\n",
              "\n",
              "        async function convertToInteractive(key) {\n",
              "          const element = document.querySelector('#df-7e121b5b-e235-472d-b103-94033c76cea0');\n",
              "          const dataTable =\n",
              "            await google.colab.kernel.invokeFunction('convertToInteractive',\n",
              "                                                     [key], {});\n",
              "          if (!dataTable) return;\n",
              "\n",
              "          const docLinkHtml = 'Like what you see? Visit the ' +\n",
              "            '<a target=\"_blank\" href=https://colab.research.google.com/notebooks/data_table.ipynb>data table notebook</a>'\n",
              "            + ' to learn more about interactive tables.';\n",
              "          element.innerHTML = '';\n",
              "          dataTable['output_type'] = 'display_data';\n",
              "          await google.colab.output.renderOutput(dataTable, element);\n",
              "          const docLink = document.createElement('div');\n",
              "          docLink.innerHTML = docLinkHtml;\n",
              "          element.appendChild(docLink);\n",
              "        }\n",
              "      </script>\n",
              "    </div>\n",
              "  </div>\n",
              "  "
            ]
          },
          "metadata": {},
          "execution_count": 79
        }
      ]
    },
    {
      "cell_type": "code",
      "source": [
        "x = www.iloc[:, 0].values\n",
        "y = www.iloc[:, 1].values\n"
      ],
      "metadata": {
        "id": "jBrZ8Kx-Xn9a"
      },
      "execution_count": 119,
      "outputs": []
    },
    {
      "cell_type": "code",
      "source": [
        "x"
      ],
      "metadata": {
        "colab": {
          "base_uri": "https://localhost:8080/"
        },
        "id": "j4sY0rkFmpXl",
        "outputId": "2ecb961a-3e06-4127-e3e8-30303a42df5c"
      },
      "execution_count": 120,
      "outputs": [
        {
          "output_type": "execute_result",
          "data": {
            "text/plain": [
              "array(['2022-05-16T00:03:00.000000000', '2022-05-16T00:03:00.000000000',\n",
              "       '2022-05-16T00:03:00.000000000', ...,\n",
              "       '2022-04-30T07:30:00.000000000', '2022-04-30T07:31:00.000000000',\n",
              "       '2022-04-30T07:31:00.000000000'], dtype='datetime64[ns]')"
            ]
          },
          "metadata": {},
          "execution_count": 120
        }
      ]
    },
    {
      "cell_type": "code",
      "source": [
        "y"
      ],
      "metadata": {
        "colab": {
          "base_uri": "https://localhost:8080/"
        },
        "id": "KEYyMGpMmqmX",
        "outputId": "1d4e6bec-26ad-4dc0-ff5d-b4dfff578c84"
      },
      "execution_count": 121,
      "outputs": [
        {
          "output_type": "execute_result",
          "data": {
            "text/plain": [
              "array([ 1460,  1460,  1460, ..., 23333, 23333, 23333])"
            ]
          },
          "metadata": {},
          "execution_count": 121
        }
      ]
    },
    {
      "cell_type": "code",
      "source": [
        "from sklearn.model_selection import train_test_split"
      ],
      "metadata": {
        "id": "860YstGUdMcY"
      },
      "execution_count": 122,
      "outputs": []
    },
    {
      "cell_type": "code",
      "source": [
        "x_train, x_test, y_train, y_test = train_test_split(x, y, test_size= 0.2, random_state=0)\n"
      ],
      "metadata": {
        "id": "k9F1pUfdaS7X"
      },
      "execution_count": 124,
      "outputs": []
    },
    {
      "cell_type": "code",
      "source": [
        "x_train= x_train.reshape(-1, 1)\n",
        "x_test = x_test.reshape(-1, 1)"
      ],
      "metadata": {
        "id": "MkwNEQAJdni2"
      },
      "execution_count": 125,
      "outputs": []
    },
    {
      "cell_type": "code",
      "source": [
        "from sklearn.tree import DecisionTreeRegressor\n",
        "regressor = DecisionTreeRegressor(random_state=0)"
      ],
      "metadata": {
        "id": "aEF3l8O1drO2"
      },
      "execution_count": 126,
      "outputs": []
    },
    {
      "cell_type": "code",
      "source": [
        "regressor.fit(x_train, y_train)"
      ],
      "metadata": {
        "colab": {
          "base_uri": "https://localhost:8080/"
        },
        "id": "WH29FMbgdw2s",
        "outputId": "7ad34e3f-aca1-4bcd-f57f-f192c68e2040"
      },
      "execution_count": 127,
      "outputs": [
        {
          "output_type": "execute_result",
          "data": {
            "text/plain": [
              "DecisionTreeRegressor(random_state=0)"
            ]
          },
          "metadata": {},
          "execution_count": 127
        }
      ]
    },
    {
      "cell_type": "code",
      "source": [
        "from sklearn.model_selection import cross_val_score"
      ],
      "metadata": {
        "id": "fr_JBsgbf2qs"
      },
      "execution_count": 128,
      "outputs": []
    },
    {
      "cell_type": "code",
      "source": [
        "dt = DecisionTreeRegressor(random_state=0, criterion=\"mae\")\n",
        "dt_fit = dt.fit(x_train, y_train)\n",
        "dt_scores = cross_val_score(dt_fit, x_train, y_train, cv = 5)\n",
        "print(\"mean cross validation score: {}\".format(np.mean(dt_scores)))\n",
        "print(\"score without cv: {}\".format(dt_fit.score(x_train, y_train)))\n",
        "# on the test or hold-out set\n",
        "from sklearn.metrics import r2_score\n",
        "print(r2_score(y_test, dt_fit.predict(x_test)))\n",
        "print(dt_fit.score(x_test, y_test))"
      ],
      "metadata": {
        "colab": {
          "base_uri": "https://localhost:8080/"
        },
        "id": "0JusV22yhBKd",
        "outputId": "93be5d46-c423-4786-e547-ac4362cc03cf"
      },
      "execution_count": 130,
      "outputs": [
        {
          "output_type": "stream",
          "name": "stderr",
          "text": [
            "/usr/local/lib/python3.7/dist-packages/sklearn/tree/_classes.py:370: FutureWarning: Criterion 'mae' was deprecated in v1.0 and will be removed in version 1.2. Use `criterion='absolute_error'` which is equivalent.\n",
            "  FutureWarning,\n",
            "/usr/local/lib/python3.7/dist-packages/sklearn/tree/_classes.py:370: FutureWarning: Criterion 'mae' was deprecated in v1.0 and will be removed in version 1.2. Use `criterion='absolute_error'` which is equivalent.\n",
            "  FutureWarning,\n",
            "/usr/local/lib/python3.7/dist-packages/sklearn/tree/_classes.py:370: FutureWarning: Criterion 'mae' was deprecated in v1.0 and will be removed in version 1.2. Use `criterion='absolute_error'` which is equivalent.\n",
            "  FutureWarning,\n",
            "/usr/local/lib/python3.7/dist-packages/sklearn/tree/_classes.py:370: FutureWarning: Criterion 'mae' was deprecated in v1.0 and will be removed in version 1.2. Use `criterion='absolute_error'` which is equivalent.\n",
            "  FutureWarning,\n",
            "/usr/local/lib/python3.7/dist-packages/sklearn/tree/_classes.py:370: FutureWarning: Criterion 'mae' was deprecated in v1.0 and will be removed in version 1.2. Use `criterion='absolute_error'` which is equivalent.\n",
            "  FutureWarning,\n",
            "/usr/local/lib/python3.7/dist-packages/sklearn/tree/_classes.py:370: FutureWarning: Criterion 'mae' was deprecated in v1.0 and will be removed in version 1.2. Use `criterion='absolute_error'` which is equivalent.\n",
            "  FutureWarning,\n"
          ]
        },
        {
          "output_type": "stream",
          "name": "stdout",
          "text": [
            "mean cross validation score: 0.08169478958211976\n",
            "score without cv: 0.09520092645418121\n",
            "0.08845138820785214\n",
            "0.08845138820785214\n"
          ]
        }
      ]
    },
    {
      "cell_type": "code",
      "source": [
        "import numpy as np"
      ],
      "metadata": {
        "id": "oOaDtKWbkCo1"
      },
      "execution_count": 131,
      "outputs": []
    },
    {
      "cell_type": "code",
      "source": [
        "dt_fit.predict(np.datetime64('2022-06-03T00:03:00.000000000').reshape(-1, 1))"
      ],
      "metadata": {
        "colab": {
          "base_uri": "https://localhost:8080/"
        },
        "id": "9L6ySorCibjs",
        "outputId": "f66e2fa5-d9c6-4d63-a668-8cc58844b3b7"
      },
      "execution_count": 174,
      "outputs": [
        {
          "output_type": "execute_result",
          "data": {
            "text/plain": [
              "array([16000.])"
            ]
          },
          "metadata": {},
          "execution_count": 174
        }
      ]
    },
    {
      "cell_type": "code",
      "source": [
        " x[0]"
      ],
      "metadata": {
        "colab": {
          "base_uri": "https://localhost:8080/"
        },
        "id": "QgQqu4Y1qAEI",
        "outputId": "aaae91a2-e6aa-4c98-be03-178137ff6723"
      },
      "execution_count": 162,
      "outputs": [
        {
          "output_type": "execute_result",
          "data": {
            "text/plain": [
              "numpy.datetime64('2022-05-16T00:03:00.000000000')"
            ]
          },
          "metadata": {},
          "execution_count": 162
        }
      ]
    },
    {
      "cell_type": "code",
      "source": [
        "predict = [14600, 14600, 3800, 6886, 10000, 20999, 20999, 16000, 16000, 16000]\n",
        "days = ['2022-05-25 00:03:00','2022-05-26 00:03:00','2022-05-27 00:03:00', '2022-05-28 00:03:00', '2022-05-29 00:03:00', \n",
        "        '2022-05-30 00:03:00', '2022-05-31 00:03:00','2022-06-01 00:03:00', '2022-06-02 00:03:00', '2022-06-01 00:03:00'\n",
        "]"
      ],
      "metadata": {
        "id": "qQw7LxUpoNUI"
      },
      "execution_count": 223,
      "outputs": []
    },
    {
      "cell_type": "code",
      "source": [
        "x = {'days': days, 'price': predict}  \n",
        "x = pd.DataFrame(x) "
      ],
      "metadata": {
        "id": "m-j9aEK6sgW9"
      },
      "execution_count": 224,
      "outputs": []
    },
    {
      "cell_type": "code",
      "source": [
        "x"
      ],
      "metadata": {
        "colab": {
          "base_uri": "https://localhost:8080/",
          "height": 363
        },
        "id": "2wK-ioKUtBXN",
        "outputId": "d0acd5e2-8b12-4e90-88ee-63064be0596b"
      },
      "execution_count": 225,
      "outputs": [
        {
          "output_type": "execute_result",
          "data": {
            "text/plain": [
              "                  days  price\n",
              "0  2022-05-25 00:03:00  14600\n",
              "1  2022-05-26 00:03:00  14600\n",
              "2  2022-05-27 00:03:00   3800\n",
              "3  2022-05-28 00:03:00   6886\n",
              "4  2022-05-29 00:03:00  10000\n",
              "5  2022-05-30 00:03:00  20999\n",
              "6  2022-05-31 00:03:00  20999\n",
              "7  2022-06-01 00:03:00  16000\n",
              "8  2022-06-02 00:03:00  16000\n",
              "9  2022-06-01 00:03:00  16000"
            ],
            "text/html": [
              "\n",
              "  <div id=\"df-ac9c37b1-bf23-4d66-9731-cb8af3f2febb\">\n",
              "    <div class=\"colab-df-container\">\n",
              "      <div>\n",
              "<style scoped>\n",
              "    .dataframe tbody tr th:only-of-type {\n",
              "        vertical-align: middle;\n",
              "    }\n",
              "\n",
              "    .dataframe tbody tr th {\n",
              "        vertical-align: top;\n",
              "    }\n",
              "\n",
              "    .dataframe thead th {\n",
              "        text-align: right;\n",
              "    }\n",
              "</style>\n",
              "<table border=\"1\" class=\"dataframe\">\n",
              "  <thead>\n",
              "    <tr style=\"text-align: right;\">\n",
              "      <th></th>\n",
              "      <th>days</th>\n",
              "      <th>price</th>\n",
              "    </tr>\n",
              "  </thead>\n",
              "  <tbody>\n",
              "    <tr>\n",
              "      <th>0</th>\n",
              "      <td>2022-05-25 00:03:00</td>\n",
              "      <td>14600</td>\n",
              "    </tr>\n",
              "    <tr>\n",
              "      <th>1</th>\n",
              "      <td>2022-05-26 00:03:00</td>\n",
              "      <td>14600</td>\n",
              "    </tr>\n",
              "    <tr>\n",
              "      <th>2</th>\n",
              "      <td>2022-05-27 00:03:00</td>\n",
              "      <td>3800</td>\n",
              "    </tr>\n",
              "    <tr>\n",
              "      <th>3</th>\n",
              "      <td>2022-05-28 00:03:00</td>\n",
              "      <td>6886</td>\n",
              "    </tr>\n",
              "    <tr>\n",
              "      <th>4</th>\n",
              "      <td>2022-05-29 00:03:00</td>\n",
              "      <td>10000</td>\n",
              "    </tr>\n",
              "    <tr>\n",
              "      <th>5</th>\n",
              "      <td>2022-05-30 00:03:00</td>\n",
              "      <td>20999</td>\n",
              "    </tr>\n",
              "    <tr>\n",
              "      <th>6</th>\n",
              "      <td>2022-05-31 00:03:00</td>\n",
              "      <td>20999</td>\n",
              "    </tr>\n",
              "    <tr>\n",
              "      <th>7</th>\n",
              "      <td>2022-06-01 00:03:00</td>\n",
              "      <td>16000</td>\n",
              "    </tr>\n",
              "    <tr>\n",
              "      <th>8</th>\n",
              "      <td>2022-06-02 00:03:00</td>\n",
              "      <td>16000</td>\n",
              "    </tr>\n",
              "    <tr>\n",
              "      <th>9</th>\n",
              "      <td>2022-06-01 00:03:00</td>\n",
              "      <td>16000</td>\n",
              "    </tr>\n",
              "  </tbody>\n",
              "</table>\n",
              "</div>\n",
              "      <button class=\"colab-df-convert\" onclick=\"convertToInteractive('df-ac9c37b1-bf23-4d66-9731-cb8af3f2febb')\"\n",
              "              title=\"Convert this dataframe to an interactive table.\"\n",
              "              style=\"display:none;\">\n",
              "        \n",
              "  <svg xmlns=\"http://www.w3.org/2000/svg\" height=\"24px\"viewBox=\"0 0 24 24\"\n",
              "       width=\"24px\">\n",
              "    <path d=\"M0 0h24v24H0V0z\" fill=\"none\"/>\n",
              "    <path d=\"M18.56 5.44l.94 2.06.94-2.06 2.06-.94-2.06-.94-.94-2.06-.94 2.06-2.06.94zm-11 1L8.5 8.5l.94-2.06 2.06-.94-2.06-.94L8.5 2.5l-.94 2.06-2.06.94zm10 10l.94 2.06.94-2.06 2.06-.94-2.06-.94-.94-2.06-.94 2.06-2.06.94z\"/><path d=\"M17.41 7.96l-1.37-1.37c-.4-.4-.92-.59-1.43-.59-.52 0-1.04.2-1.43.59L10.3 9.45l-7.72 7.72c-.78.78-.78 2.05 0 2.83L4 21.41c.39.39.9.59 1.41.59.51 0 1.02-.2 1.41-.59l7.78-7.78 2.81-2.81c.8-.78.8-2.07 0-2.86zM5.41 20L4 18.59l7.72-7.72 1.47 1.35L5.41 20z\"/>\n",
              "  </svg>\n",
              "      </button>\n",
              "      \n",
              "  <style>\n",
              "    .colab-df-container {\n",
              "      display:flex;\n",
              "      flex-wrap:wrap;\n",
              "      gap: 12px;\n",
              "    }\n",
              "\n",
              "    .colab-df-convert {\n",
              "      background-color: #E8F0FE;\n",
              "      border: none;\n",
              "      border-radius: 50%;\n",
              "      cursor: pointer;\n",
              "      display: none;\n",
              "      fill: #1967D2;\n",
              "      height: 32px;\n",
              "      padding: 0 0 0 0;\n",
              "      width: 32px;\n",
              "    }\n",
              "\n",
              "    .colab-df-convert:hover {\n",
              "      background-color: #E2EBFA;\n",
              "      box-shadow: 0px 1px 2px rgba(60, 64, 67, 0.3), 0px 1px 3px 1px rgba(60, 64, 67, 0.15);\n",
              "      fill: #174EA6;\n",
              "    }\n",
              "\n",
              "    [theme=dark] .colab-df-convert {\n",
              "      background-color: #3B4455;\n",
              "      fill: #D2E3FC;\n",
              "    }\n",
              "\n",
              "    [theme=dark] .colab-df-convert:hover {\n",
              "      background-color: #434B5C;\n",
              "      box-shadow: 0px 1px 3px 1px rgba(0, 0, 0, 0.15);\n",
              "      filter: drop-shadow(0px 1px 2px rgba(0, 0, 0, 0.3));\n",
              "      fill: #FFFFFF;\n",
              "    }\n",
              "  </style>\n",
              "\n",
              "      <script>\n",
              "        const buttonEl =\n",
              "          document.querySelector('#df-ac9c37b1-bf23-4d66-9731-cb8af3f2febb button.colab-df-convert');\n",
              "        buttonEl.style.display =\n",
              "          google.colab.kernel.accessAllowed ? 'block' : 'none';\n",
              "\n",
              "        async function convertToInteractive(key) {\n",
              "          const element = document.querySelector('#df-ac9c37b1-bf23-4d66-9731-cb8af3f2febb');\n",
              "          const dataTable =\n",
              "            await google.colab.kernel.invokeFunction('convertToInteractive',\n",
              "                                                     [key], {});\n",
              "          if (!dataTable) return;\n",
              "\n",
              "          const docLinkHtml = 'Like what you see? Visit the ' +\n",
              "            '<a target=\"_blank\" href=https://colab.research.google.com/notebooks/data_table.ipynb>data table notebook</a>'\n",
              "            + ' to learn more about interactive tables.';\n",
              "          element.innerHTML = '';\n",
              "          dataTable['output_type'] = 'display_data';\n",
              "          await google.colab.output.renderOutput(dataTable, element);\n",
              "          const docLink = document.createElement('div');\n",
              "          docLink.innerHTML = docLinkHtml;\n",
              "          element.appendChild(docLink);\n",
              "        }\n",
              "      </script>\n",
              "    </div>\n",
              "  </div>\n",
              "  "
            ]
          },
          "metadata": {},
          "execution_count": 225
        }
      ]
    },
    {
      "cell_type": "code",
      "source": [
        "z=pd.to_datetime(x.days).sort_values()"
      ],
      "metadata": {
        "id": "QLmSfDDEwYtq"
      },
      "execution_count": 227,
      "outputs": []
    },
    {
      "cell_type": "code",
      "source": [
        "x['days']=z"
      ],
      "metadata": {
        "id": "o1MlN68ywgHI"
      },
      "execution_count": 226,
      "outputs": []
    },
    {
      "cell_type": "code",
      "source": [
        "x.dtypes"
      ],
      "metadata": {
        "colab": {
          "base_uri": "https://localhost:8080/"
        },
        "id": "ki4evz70vTP-",
        "outputId": "fb800447-543f-4713-ab39-2c326d7fbf6c"
      },
      "execution_count": 230,
      "outputs": [
        {
          "output_type": "execute_result",
          "data": {
            "text/plain": [
              "days     datetime64[ns]\n",
              "price             int64\n",
              "dtype: object"
            ]
          },
          "metadata": {},
          "execution_count": 230
        }
      ]
    },
    {
      "cell_type": "code",
      "source": [
        "z"
      ],
      "metadata": {
        "colab": {
          "base_uri": "https://localhost:8080/"
        },
        "id": "JpABoZjbyjbv",
        "outputId": "a909daa6-baad-4b89-f173-acfe3325e7c1"
      },
      "execution_count": 231,
      "outputs": [
        {
          "output_type": "execute_result",
          "data": {
            "text/plain": [
              "0   2022-05-25 00:03:00\n",
              "1   2022-05-26 00:03:00\n",
              "2   2022-05-27 00:03:00\n",
              "3   2022-05-28 00:03:00\n",
              "4   2022-05-29 00:03:00\n",
              "5   2022-05-30 00:03:00\n",
              "6   2022-05-31 00:03:00\n",
              "7   2022-06-01 00:03:00\n",
              "9   2022-06-01 00:03:00\n",
              "8   2022-06-02 00:03:00\n",
              "Name: days, dtype: datetime64[ns]"
            ]
          },
          "metadata": {},
          "execution_count": 231
        }
      ]
    },
    {
      "cell_type": "code",
      "source": [
        "import matplotlib.pyplot as plt\n",
        "x.plot(x=\"days\", y=\"price\", figsize = (15.5, 6.5), ylabel='price', legend=None)\n",
        "ww.plot(x=\"day\", y=\"price_vik\", figsize = (15.5, 6.5), ylabel='price', legend=None)\n",
        "plt.show()\n"
      ],
      "metadata": {
        "colab": {
          "base_uri": "https://localhost:8080/",
          "height": 815
        },
        "id": "Y_gTqRETl9go",
        "outputId": "bb462e4f-0282-4fcc-a6cc-50840bb9ca66"
      },
      "execution_count": 247,
      "outputs": [
        {
          "output_type": "display_data",
          "data": {
            "text/plain": [
              "<Figure size 1116x468 with 1 Axes>"
            ],
            "image/png": "[encoded data removed]"
          },
          "metadata": {}
        },
        {
          "output_type": "display_data",
          "data": {
            "text/plain": [
              "<Figure size 1116x468 with 1 Axes>"
            ],
            "image/png": "[encoded data removed]"
          },
          "metadata": {}
        }
      ]
    },
    {
      "cell_type": "code",
      "source": [
        "plt.plot(ww.day, ww.price_vik, color='blue')\n",
        "\n",
        "plt.plot(x.days, x.price, color='red')"
      ],
      "metadata": {
        "colab": {
          "base_uri": "https://localhost:8080/",
          "height": 286
        },
        "id": "owg7teeOvucb",
        "outputId": "201cbc61-2b00-4dd2-82d1-b62582a93fe2"
      },
      "execution_count": 246,
      "outputs": [
        {
          "output_type": "execute_result",
          "data": {
            "text/plain": [
              "[<matplotlib.lines.Line2D at 0x7fb1f6b2d810>]"
            ]
          },
          "metadata": {},
          "execution_count": 246
        },
        {
          "output_type": "display_data",
          "data": {
            "text/plain": [
              "<Figure size 432x288 with 1 Axes>"
            ],
            "image/png": "[encoded data removed]"
          },
          "metadata": {}
        }
      ]
    }
  ]
}